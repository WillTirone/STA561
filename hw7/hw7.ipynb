{
 "cells": [
  {
   "cell_type": "markdown",
   "id": "a22882a3-2af9-44ed-829d-d254864ed184",
   "metadata": {},
   "source": [
    "# STA 561 HW 10 {-}\n",
    "\n",
    "Authors  \n",
    " -  Alonso Guerrero Castaneda (UID: 1194613)  \n",
    " -  Eli Gnesin (UID: 1172961)  \n",
    " -  Tommy Misikoff (UID: 1166813)  \n",
    " -  Sanskriti Purohit (UID: 1179957)  \n",
    " -  Will Tirone (UID: 1130904)  \n",
    "\n",
    "TA: Rick Presman "
   ]
  },
  {
   "cell_type": "code",
   "execution_count": 2,
   "id": "ae42df29-0ef6-456b-a3ba-6175f97b0084",
   "metadata": {},
   "outputs": [],
   "source": [
    "#Import Lines\n",
    "import numpy as np\n",
    "import pandas as pd\n",
    "import statsmodels.api as sm"
   ]
  },
  {
   "cell_type": "markdown",
   "id": "960c7ae8-737d-44e4-9fd2-904e125948c7",
   "metadata": {
    "tags": []
   },
   "source": [
    "## Question 1 {-}\n",
    "\n",
    "What is the optimal decision rule $\\pi$?"
   ]
  },
  {
   "cell_type": "code",
   "execution_count": 5,
   "id": "d344695f-c151-4773-8994-80b97ef965c2",
   "metadata": {},
   "outputs": [
    {
     "name": "stdout",
     "output_type": "stream",
     "text": [
      "Tau = 0.01\n",
      "The proportion of significant betas was 0.041\n",
      "Tau = 0.025\n",
      "The proportion of significant betas was 0.0445\n"
     ]
    }
   ],
   "source": [
    "n = 500\n",
    "B = 1000\n",
    "b0 = b1 = b2 = 1\n",
    "b3 = 0.5\n",
    "tau = [0.01, 0.025]\n",
    "p_values = []\n",
    "\n",
    "#Create our random number generator\n",
    "rng = np.random.default_rng()\n",
    "\n",
    "for t in tau:\n",
    "    for b in range(B):\n",
    "        # Create our X\n",
    "        samp = rng.normal(loc = 0, scale = 1, size = n)\n",
    "        X = np.power(samp, 5) #If X^{1/5} is N(0,1), then X is N(0,1)^5\n",
    "        #print(X)\n",
    "\n",
    "        #Create A\n",
    "        A = [1 if np.abs(x) <= t else 0 for x in X]\n",
    "        #print(A)\n",
    "\n",
    "        #Create Y\n",
    "        err = rng.normal(loc = 0, scale = 1, size = n)\n",
    "        Y = (b0 * np.ones(n)) + (b1 * A) + (b2 * X) + (b3 * (A * X)) + err\n",
    "        #print(Y)\n",
    "\n",
    "        #Build a dataframe\n",
    "        df = pd.DataFrame(list(zip(X, A, Y)))\n",
    "        df.columns = [\"X\", \"A\", \"Y\"]\n",
    "\n",
    "        #Now the OLS\n",
    "        mod = sm.OLS.from_formula(\"Y ~ A + X + A*X\", data = df)\n",
    "        res = mod.fit()\n",
    "        #print(res.pvalues[3]) #This is the p-value for beta_3\n",
    "        p_values.append(res.pvalues[3])\n",
    "\n",
    "    print(f\"Tau = {t}\")\n",
    "    print(f\"The proportion of significant betas was {np.mean([1 if x < 0.05 else 0 for x in p_values])}\")"
   ]
  },
  {
   "cell_type": "markdown",
   "id": "b07478d8-d7c8-442a-a9bb-01ffa32bde53",
   "metadata": {},
   "source": [
    "## Question 2 {-}"
   ]
  },
  {
   "cell_type": "code",
   "execution_count": null,
   "id": "db85fe75-a8fb-4027-bd46-09d4a6417ae9",
   "metadata": {},
   "outputs": [],
   "source": []
  }
 ],
 "metadata": {
  "date": "February 20, 2023",
  "kernelspec": {
   "display_name": "Python 3 (ipykernel)",
   "language": "python",
   "name": "python3"
  },
  "language_info": {
   "codemirror_mode": {
    "name": "ipython",
    "version": 3
   },
   "file_extension": ".py",
   "mimetype": "text/x-python",
   "name": "python",
   "nbconvert_exporter": "python",
   "pygments_lexer": "ipython3",
   "version": "3.9.12"
  },
  "title": "STA 561 Homework 10"
 },
 "nbformat": 4,
 "nbformat_minor": 5
}
