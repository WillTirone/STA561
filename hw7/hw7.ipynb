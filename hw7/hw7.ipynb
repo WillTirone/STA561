{
 "cells": [
  {
   "cell_type": "markdown",
   "id": "a22882a3-2af9-44ed-829d-d254864ed184",
   "metadata": {},
   "source": [
    "# STA 561 HW 10 {-}\n",
    "\n",
    "Authors  \n",
    " -  Alonso Guerrero Castaneda (UID: 1194613)  \n",
    " -  Eli Gnesin (UID: 1172961)  \n",
    " -  Tommy Misikoff (UID: 1166813)  \n",
    " -  Sanskriti Purohit (UID: 1179957)  \n",
    " -  Will Tirone (UID: 1130904)  \n",
    "\n",
    "TA: Rick Presman "
   ]
  },
  {
   "cell_type": "code",
   "execution_count": 19,
   "id": "ae42df29-0ef6-456b-a3ba-6175f97b0084",
   "metadata": {},
   "outputs": [],
   "source": [
    "#Import Lines\n",
    "import numpy as np\n",
    "import pandas as pd\n",
    "import statsmodels.api as sm\n",
    "from sklearn import datasets\n",
    "from sklearn.ensemble import RandomForestClassifier\n",
    "from scipy.spatial import ConvexHull"
   ]
  },
  {
   "cell_type": "markdown",
   "id": "960c7ae8-737d-44e4-9fd2-904e125948c7",
   "metadata": {
    "tags": []
   },
   "source": [
    "## Question 1 {-}\n",
    "\n",
    "What is the optimal decision rule $\\pi$?"
   ]
  },
  {
   "cell_type": "code",
   "execution_count": 5,
   "id": "d344695f-c151-4773-8994-80b97ef965c2",
   "metadata": {},
   "outputs": [
    {
     "name": "stdout",
     "output_type": "stream",
     "text": [
      "Tau = 0.01\n",
      "The proportion of significant betas was 0.041\n",
      "Tau = 0.025\n",
      "The proportion of significant betas was 0.0445\n"
     ]
    }
   ],
   "source": [
    "n = 500\n",
    "B = 1000\n",
    "b0 = b1 = b2 = 1\n",
    "b3 = 0.5\n",
    "tau = [0.01, 0.025]\n",
    "p_values = []\n",
    "\n",
    "#Create our random number generator\n",
    "rng = np.random.default_rng()\n",
    "\n",
    "for t in tau:\n",
    "    for b in range(B):\n",
    "        # Create our X\n",
    "        samp = rng.normal(loc = 0, scale = 1, size = n)\n",
    "        X = np.power(samp, 5) #If X^{1/5} is N(0,1), then X is N(0,1)^5\n",
    "        #print(X)\n",
    "\n",
    "        #Create A\n",
    "        A = [1 if np.abs(x) <= t else 0 for x in X]\n",
    "        #print(A)\n",
    "\n",
    "        #Create Y\n",
    "        err = rng.normal(loc = 0, scale = 1, size = n)\n",
    "        Y = (b0 * np.ones(n)) + (b1 * A) + (b2 * X) + (b3 * (A * X)) + err\n",
    "        #print(Y)\n",
    "\n",
    "        #Build a dataframe\n",
    "        df = pd.DataFrame(list(zip(X, A, Y)))\n",
    "        df.columns = [\"X\", \"A\", \"Y\"]\n",
    "\n",
    "        #Now the OLS\n",
    "        mod = sm.OLS.from_formula(\"Y ~ A + X + A*X\", data = df)\n",
    "        res = mod.fit()\n",
    "        #print(res.pvalues[3]) #This is the p-value for beta_3\n",
    "        p_values.append(res.pvalues[3])\n",
    "\n",
    "    print(f\"Tau = {t}\")\n",
    "    print(f\"The proportion of significant betas was {np.mean([1 if x < 0.05 else 0 for x in p_values])}\")"
   ]
  },
  {
   "cell_type": "markdown",
   "id": "b07478d8-d7c8-442a-a9bb-01ffa32bde53",
   "metadata": {},
   "source": [
    "## Question 2: Constructing Kernels"
   ]
  },
  {
   "cell_type": "markdown",
   "id": "f1cf9742",
   "metadata": {},
   "source": [
    "### Part 1\n",
    "\n",
    "Steps: \n",
    "\n",
    "1. generate $Z_1,...Z_B$ from convex hull of support of $X_1,...,X_n$\n",
    "    - is X random? \n",
    "2. create outputs $\\hat{f_n}(Z_1),...,\\hat{f_n}(Z_B)$\n",
    "    - how do we create these? \n",
    "3. fit $\\bigg\\{ (Z_b, \\hat{f_n}(Z_b)\\bigg\\}_{b=1}^{B}$"
   ]
  },
  {
   "cell_type": "code",
   "execution_count": 70,
   "id": "db85fe75-a8fb-4027-bd46-09d4a6417ae9",
   "metadata": {},
   "outputs": [],
   "source": [
    "d = datasets.load_iris(return_X_y=False, as_frame=True)\n",
    "X = d['data']\n",
    "y = d['target']\n",
    "\n",
    "hull = ConvexHull(X).simplices # returns uhh something "
   ]
  },
  {
   "cell_type": "code",
   "execution_count": 74,
   "id": "dfcb19bc",
   "metadata": {},
   "outputs": [],
   "source": [
    "clf = RandomForestClassifier(max_depth=2, random_state=0)\n",
    "clf_fit = clf.fit(X,y)"
   ]
  },
  {
   "cell_type": "code",
   "execution_count": 79,
   "id": "137e4338",
   "metadata": {},
   "outputs": [
    {
     "name": "stderr",
     "output_type": "stream",
     "text": [
      "C:\\Users\\WillTirone\\anaconda3\\lib\\site-packages\\sklearn\\base.py:409: UserWarning: X does not have valid feature names, but RandomForestClassifier was fitted with feature names\n",
      "  warnings.warn(\n"
     ]
    },
    {
     "data": {
      "text/plain": [
       "array([2])"
      ]
     },
     "execution_count": 79,
     "metadata": {},
     "output_type": "execute_result"
    }
   ],
   "source": [
    "clf_fit.predict([[7,3,5,1.8]])"
   ]
  },
  {
   "cell_type": "code",
   "execution_count": 78,
   "id": "1b2cbd07",
   "metadata": {},
   "outputs": [
    {
     "data": {
      "text/html": [
       "<div>\n",
       "<style scoped>\n",
       "    .dataframe tbody tr th:only-of-type {\n",
       "        vertical-align: middle;\n",
       "    }\n",
       "\n",
       "    .dataframe tbody tr th {\n",
       "        vertical-align: top;\n",
       "    }\n",
       "\n",
       "    .dataframe thead th {\n",
       "        text-align: right;\n",
       "    }\n",
       "</style>\n",
       "<table border=\"1\" class=\"dataframe\">\n",
       "  <thead>\n",
       "    <tr style=\"text-align: right;\">\n",
       "      <th></th>\n",
       "      <th>sepal length (cm)</th>\n",
       "      <th>sepal width (cm)</th>\n",
       "      <th>petal length (cm)</th>\n",
       "      <th>petal width (cm)</th>\n",
       "    </tr>\n",
       "  </thead>\n",
       "  <tbody>\n",
       "    <tr>\n",
       "      <th>0</th>\n",
       "      <td>5.1</td>\n",
       "      <td>3.5</td>\n",
       "      <td>1.4</td>\n",
       "      <td>0.2</td>\n",
       "    </tr>\n",
       "    <tr>\n",
       "      <th>1</th>\n",
       "      <td>4.9</td>\n",
       "      <td>3.0</td>\n",
       "      <td>1.4</td>\n",
       "      <td>0.2</td>\n",
       "    </tr>\n",
       "    <tr>\n",
       "      <th>2</th>\n",
       "      <td>4.7</td>\n",
       "      <td>3.2</td>\n",
       "      <td>1.3</td>\n",
       "      <td>0.2</td>\n",
       "    </tr>\n",
       "    <tr>\n",
       "      <th>3</th>\n",
       "      <td>4.6</td>\n",
       "      <td>3.1</td>\n",
       "      <td>1.5</td>\n",
       "      <td>0.2</td>\n",
       "    </tr>\n",
       "    <tr>\n",
       "      <th>4</th>\n",
       "      <td>5.0</td>\n",
       "      <td>3.6</td>\n",
       "      <td>1.4</td>\n",
       "      <td>0.2</td>\n",
       "    </tr>\n",
       "    <tr>\n",
       "      <th>...</th>\n",
       "      <td>...</td>\n",
       "      <td>...</td>\n",
       "      <td>...</td>\n",
       "      <td>...</td>\n",
       "    </tr>\n",
       "    <tr>\n",
       "      <th>145</th>\n",
       "      <td>6.7</td>\n",
       "      <td>3.0</td>\n",
       "      <td>5.2</td>\n",
       "      <td>2.3</td>\n",
       "    </tr>\n",
       "    <tr>\n",
       "      <th>146</th>\n",
       "      <td>6.3</td>\n",
       "      <td>2.5</td>\n",
       "      <td>5.0</td>\n",
       "      <td>1.9</td>\n",
       "    </tr>\n",
       "    <tr>\n",
       "      <th>147</th>\n",
       "      <td>6.5</td>\n",
       "      <td>3.0</td>\n",
       "      <td>5.2</td>\n",
       "      <td>2.0</td>\n",
       "    </tr>\n",
       "    <tr>\n",
       "      <th>148</th>\n",
       "      <td>6.2</td>\n",
       "      <td>3.4</td>\n",
       "      <td>5.4</td>\n",
       "      <td>2.3</td>\n",
       "    </tr>\n",
       "    <tr>\n",
       "      <th>149</th>\n",
       "      <td>5.9</td>\n",
       "      <td>3.0</td>\n",
       "      <td>5.1</td>\n",
       "      <td>1.8</td>\n",
       "    </tr>\n",
       "  </tbody>\n",
       "</table>\n",
       "<p>150 rows × 4 columns</p>\n",
       "</div>"
      ],
      "text/plain": [
       "     sepal length (cm)  sepal width (cm)  petal length (cm)  petal width (cm)\n",
       "0                  5.1               3.5                1.4               0.2\n",
       "1                  4.9               3.0                1.4               0.2\n",
       "2                  4.7               3.2                1.3               0.2\n",
       "3                  4.6               3.1                1.5               0.2\n",
       "4                  5.0               3.6                1.4               0.2\n",
       "..                 ...               ...                ...               ...\n",
       "145                6.7               3.0                5.2               2.3\n",
       "146                6.3               2.5                5.0               1.9\n",
       "147                6.5               3.0                5.2               2.0\n",
       "148                6.2               3.4                5.4               2.3\n",
       "149                5.9               3.0                5.1               1.8\n",
       "\n",
       "[150 rows x 4 columns]"
      ]
     },
     "execution_count": 78,
     "metadata": {},
     "output_type": "execute_result"
    }
   ],
   "source": []
  },
  {
   "cell_type": "code",
   "execution_count": null,
   "id": "795e0046",
   "metadata": {},
   "outputs": [],
   "source": [
    "# fit the local linear model "
   ]
  }
 ],
 "metadata": {
  "date": "February 20, 2023",
  "kernelspec": {
   "display_name": "Python 3 (ipykernel)",
   "language": "python",
   "name": "python3"
  },
  "language_info": {
   "codemirror_mode": {
    "name": "ipython",
    "version": 3
   },
   "file_extension": ".py",
   "mimetype": "text/x-python",
   "name": "python",
   "nbconvert_exporter": "python",
   "pygments_lexer": "ipython3",
   "version": "3.8.11"
  },
  "title": "STA 561 Homework 10"
 },
 "nbformat": 4,
 "nbformat_minor": 5
}
