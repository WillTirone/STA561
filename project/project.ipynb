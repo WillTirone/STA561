{
 "cells": [
  {
   "cell_type": "markdown",
   "id": "33681dcb-cf46-424c-a37a-a0e259fe8b17",
   "metadata": {},
   "source": [
    "## Project"
   ]
  },
  {
   "cell_type": "code",
   "execution_count": 3,
   "id": "671a14c7-0df6-4dcf-9b85-0e93f7ec8778",
   "metadata": {},
   "outputs": [],
   "source": [
    "import pandas as pd\n",
    "import numpy as np\n",
    "import requests\n",
    "import os\n",
    "import xarray as xr\n",
    "from netCDF4 import Dataset\n",
    "import tempfile\n",
    "from scipy.spatial.distance import cdist\n",
    "from tqdm import tqdm\n",
    "from math import radians, cos, sin, asin, sqrt"
   ]
  },
  {
   "cell_type": "markdown",
   "id": "a4cd372a-2bc1-4ba1-a62a-caaf061d49fc",
   "metadata": {},
   "source": [
    "### 1. Data Collection"
   ]
  },
  {
   "cell_type": "markdown",
   "id": "441d984b-df2c-4029-ab76-5f62578fbb8b",
   "metadata": {},
   "source": [
    "#### 1.1 Biomass data"
   ]
  },
  {
   "cell_type": "markdown",
   "id": "2fc458d8-eff5-4626-bcde-b5dba3c6472f",
   "metadata": {},
   "source": [
    "Spatio-temporal data for walleye pollock in the Gulf of Alaska extracted from the NOAA Fisheries website: https://apps-st.fisheries.noaa.gov/dismap/DisMAP.html#single-species-distributions"
   ]
  },
  {
   "cell_type": "code",
   "execution_count": 12,
   "id": "65ca7ad6-e153-4095-8e33-0e65b0bbc7a4",
   "metadata": {},
   "outputs": [
    {
     "data": {
      "text/html": [
       "<div>\n",
       "<style scoped>\n",
       "    .dataframe tbody tr th:only-of-type {\n",
       "        vertical-align: middle;\n",
       "    }\n",
       "\n",
       "    .dataframe tbody tr th {\n",
       "        vertical-align: top;\n",
       "    }\n",
       "\n",
       "    .dataframe thead th {\n",
       "        text-align: right;\n",
       "    }\n",
       "</style>\n",
       "<table border=\"1\" class=\"dataframe\">\n",
       "  <thead>\n",
       "    <tr style=\"text-align: right;\">\n",
       "      <th></th>\n",
       "      <th>HaulID</th>\n",
       "      <th>Stratum</th>\n",
       "      <th>LAT</th>\n",
       "      <th>LON</th>\n",
       "      <th>Depth</th>\n",
       "      <th>Year</th>\n",
       "      <th>wtcpue</th>\n",
       "    </tr>\n",
       "  </thead>\n",
       "  <tbody>\n",
       "    <tr>\n",
       "      <th>0</th>\n",
       "      <td>021-198403-001</td>\n",
       "      <td>350</td>\n",
       "      <td>55.98767</td>\n",
       "      <td>-134.59517</td>\n",
       "      <td>346</td>\n",
       "      <td>1984</td>\n",
       "      <td>0.0000</td>\n",
       "    </tr>\n",
       "    <tr>\n",
       "      <th>1</th>\n",
       "      <td>021-198403-002</td>\n",
       "      <td>251</td>\n",
       "      <td>55.63200</td>\n",
       "      <td>-134.22900</td>\n",
       "      <td>225</td>\n",
       "      <td>1984</td>\n",
       "      <td>4.7482</td>\n",
       "    </tr>\n",
       "    <tr>\n",
       "      <th>2</th>\n",
       "      <td>021-198403-003</td>\n",
       "      <td>151</td>\n",
       "      <td>55.21450</td>\n",
       "      <td>-133.88733</td>\n",
       "      <td>117</td>\n",
       "      <td>1984</td>\n",
       "      <td>1.0413</td>\n",
       "    </tr>\n",
       "    <tr>\n",
       "      <th>3</th>\n",
       "      <td>021-198403-006</td>\n",
       "      <td>151</td>\n",
       "      <td>55.13300</td>\n",
       "      <td>-133.87100</td>\n",
       "      <td>141</td>\n",
       "      <td>1984</td>\n",
       "      <td>1.3450</td>\n",
       "    </tr>\n",
       "    <tr>\n",
       "      <th>4</th>\n",
       "      <td>021-198403-007</td>\n",
       "      <td>151</td>\n",
       "      <td>55.12550</td>\n",
       "      <td>-134.00167</td>\n",
       "      <td>170</td>\n",
       "      <td>1984</td>\n",
       "      <td>0.2030</td>\n",
       "    </tr>\n",
       "  </tbody>\n",
       "</table>\n",
       "</div>"
      ],
      "text/plain": [
       "           HaulID  Stratum       LAT        LON  Depth  Year  wtcpue\n",
       "0  021-198403-001      350  55.98767 -134.59517    346  1984  0.0000\n",
       "1  021-198403-002      251  55.63200 -134.22900    225  1984  4.7482\n",
       "2  021-198403-003      151  55.21450 -133.88733    117  1984  1.0413\n",
       "3  021-198403-006      151  55.13300 -133.87100    141  1984  1.3450\n",
       "4  021-198403-007      151  55.12550 -134.00167    170  1984  0.2030"
      ]
     },
     "execution_count": 12,
     "metadata": {},
     "output_type": "execute_result"
    }
   ],
   "source": [
    "wp_gulf_alaska = pd.read_csv(\"wp_gulf_alaska.csv\")\n",
    "wp_gulf_alaska['Year'] = wp_gulf_alaska['Year'].astype('int64')\n",
    "wp_gulf_alaska.head()"
   ]
  },
  {
   "cell_type": "markdown",
   "id": "878dc3cb-c06d-4393-994a-7091e7fc5dc2",
   "metadata": {},
   "source": [
    "Columns:\n",
    "- HaulID / Stratum: characterizes the survey expedition and catch throw.\n",
    "- LAT / LON: Latitude and Longitude of survey catch\n",
    "- Depth: Sea depth measured in meters below sea level.\n",
    "- Year: No other timestamp is provided. However, documentation specify that all surveys have been conducted during summer months.\n",
    "- wtcpue: survey catch measured in kg per ha.\n"
   ]
  },
  {
   "cell_type": "markdown",
   "id": "4fed668c-4bb8-460c-aabc-70db0d143aaf",
   "metadata": {},
   "source": [
    "#### 1.2 Oceanographic data"
   ]
  },
  {
   "cell_type": "markdown",
   "id": "9b373840-3f2c-4f16-b967-5d8e62689b48",
   "metadata": {},
   "source": [
    "We web-scrape temperature and salinity geospatial data from HyCOM (Hybrid Coordinate Ocean Model) using their NCSS request URL. Since there is too much data, we have decided to only get a sample from the first day of each summer month (July 1st, August 1st and September 1st). Of course, including more points should improve our model. Then again, we don't have a timestamp associated with each survey, just the year.\n",
    "\n",
    "We will extract data from this geographic region:\n",
    "- North limit: 60.32\n",
    "- South limit: 52.41\n",
    "- West limit: -170\n",
    "- East limit: -132.5\n",
    "\n",
    "Unfortunately, we do not have data prior to 1995. \n",
    "\n",
    "### Note: to run the below, create a temp folder in the project working directory"
   ]
  },
  {
   "cell_type": "code",
   "execution_count": 5,
   "id": "faa337d2-d4c5-4556-b4ef-72a46d617d03",
   "metadata": {
    "scrolled": false
   },
   "outputs": [
    {
     "name": "stderr",
     "output_type": "stream",
     "text": [
      "1996: 100%|██████████████████████████████████████████████████████████████████████████████| 3/3 [01:59<00:00, 39.81s/it]\n",
      "1999: 100%|██████████████████████████████████████████████████████████████████████████████| 3/3 [00:13<00:00,  4.56s/it]\n",
      "2003: 100%|██████████████████████████████████████████████████████████████████████████████| 3/3 [00:06<00:00,  2.27s/it]\n",
      "2005: 100%|██████████████████████████████████████████████████████████████████████████████| 3/3 [00:06<00:00,  2.27s/it]\n",
      "2007: 100%|██████████████████████████████████████████████████████████████████████████████| 3/3 [00:30<00:00, 10.25s/it]\n",
      "2009: 100%|██████████████████████████████████████████████████████████████████████████████| 3/3 [00:45<00:00, 15.15s/it]\n",
      "2011: 100%|██████████████████████████████████████████████████████████████████████████████| 3/3 [00:12<00:00,  4.09s/it]\n",
      "2013: 100%|██████████████████████████████████████████████████████████████████████████████| 3/3 [00:14<00:00,  4.77s/it]\n",
      "2015: 100%|██████████████████████████████████████████████████████████████████████████████| 3/3 [00:17<00:00,  5.99s/it]\n",
      "2017: 100%|██████████████████████████████████████████████████████████████████████████████| 3/3 [00:04<00:00,  1.54s/it]\n",
      "2019: 100%|██████████████████████████████████████████████████████████████████████████████| 3/3 [01:45<00:00, 35.10s/it]\n"
     ]
    }
   ],
   "source": [
    "# Define the list of years and months\n",
    "year_list = [1996, 1999, 2003, 2005, 2007, 2009, 2011, 2013, 2015, 2017, 2019]\n",
    "month_list = [7, 8, 9]\n",
    "this_folder = os.getcwd()\n",
    "data_folder = this_folder + '\\\\temp'\n",
    "\n",
    "# create data folder if it doesn't exists \n",
    "if not os.path.exists(data_folder):\n",
    "    os.mkdir(data_folder)\n",
    "\n",
    "# Create an empty DataFrame to store the results\n",
    "df_all = pd.DataFrame()\n",
    "\n",
    "# Loop over each desired year and month, and add a progress bar\n",
    "for year in year_list:\n",
    "    for month in tqdm(month_list, desc=f'{year}'):\n",
    "        # Define the date string\n",
    "        date_str = f'{year}-{month:02d}-01T09:00:00Z'\n",
    "        # Define the URL with the fixed parameters\n",
    "        if year <=2015:\n",
    "            url = \"https://ncss.hycom.org/thredds/ncss/GLBv0.08/expt_53.X/data/\"+str(year)+\"?var=salinity_bottom&var=water_temp_bottom&north=60.32&west=-170&east=-132.5&south=52.41&horizStride=1&vertCoord=&accept=netcdf4\"\n",
    "        elif year == 2017:\n",
    "            url = \"https://ncss.hycom.org/thredds/ncss/GLBv0.08/expt_57.7?var=salinity_bottom&var=water_temp_bottom&north=60.32&west=-170&east=-132.5&south=52.41&horizStride=1&vertCoord=&accept=netcdf4\"\n",
    "        else:\n",
    "            url = \"https://ncss.hycom.org/thredds/ncss/GLBv0.08/expt_93.0/ts3z?var=salinity_bottom&var=water_temp_bottom&north=60.32&west=-170&east=-132.5&south=52.41&horizStride=1&vertCoord=&accept=netcdf4\"\n",
    "        \n",
    "        my_file = os.path.join(this_folder, 'temp', f'example-{date_str[:10]}.nc4')\n",
    "        # Add the date parameter to the URL\n",
    "        url_day = f'{url}&time={date_str}'\n",
    "        # Download the data and save it to a file\n",
    "        downloaded_obj = requests.get(url_day)\n",
    "        with open(my_file, \"wb\") as file:\n",
    "            file.write(downloaded_obj.content)\n",
    "            del downloaded_obj\n",
    "        # Open the NetCDF file and convert it to a pandas DataFrame\n",
    "        ds = xr.open_dataset(my_file)\n",
    "        df_temp = ds.to_dataframe().reset_index()\n",
    "        # Append the DataFrame to the overall DataFrame\n",
    "        df_all = pd.concat([df_all, df_temp], ignore_index=True)"
   ]
  },
  {
   "cell_type": "code",
   "execution_count": 8,
   "id": "c8bb7b1e-848c-4dae-b3ee-400f1e26346f",
   "metadata": {},
   "outputs": [],
   "source": [
    "df_all[\"Year\"] = df_all['time'].dt.strftime('%Y')"
   ]
  },
  {
   "cell_type": "code",
   "execution_count": 10,
   "id": "c9a59262-4f2c-4c76-bfbe-1452aefc52e2",
   "metadata": {},
   "outputs": [
    {
     "data": {
      "text/html": [
       "<div>\n",
       "<style scoped>\n",
       "    .dataframe tbody tr th:only-of-type {\n",
       "        vertical-align: middle;\n",
       "    }\n",
       "\n",
       "    .dataframe tbody tr th {\n",
       "        vertical-align: top;\n",
       "    }\n",
       "\n",
       "    .dataframe thead th {\n",
       "        text-align: right;\n",
       "    }\n",
       "</style>\n",
       "<table border=\"1\" class=\"dataframe\">\n",
       "  <thead>\n",
       "    <tr style=\"text-align: right;\">\n",
       "      <th></th>\n",
       "      <th>lat</th>\n",
       "      <th>lon</th>\n",
       "      <th>Year</th>\n",
       "      <th>salinity_bottom</th>\n",
       "      <th>water_temp_bottom</th>\n",
       "    </tr>\n",
       "  </thead>\n",
       "  <tbody>\n",
       "    <tr>\n",
       "      <th>0</th>\n",
       "      <td>52.400002</td>\n",
       "      <td>-170.0</td>\n",
       "      <td>1996</td>\n",
       "      <td>34.245998</td>\n",
       "      <td>3.425332</td>\n",
       "    </tr>\n",
       "    <tr>\n",
       "      <th>1</th>\n",
       "      <td>52.400002</td>\n",
       "      <td>-170.0</td>\n",
       "      <td>1999</td>\n",
       "      <td>34.206333</td>\n",
       "      <td>3.580333</td>\n",
       "    </tr>\n",
       "    <tr>\n",
       "      <th>2</th>\n",
       "      <td>52.400002</td>\n",
       "      <td>-170.0</td>\n",
       "      <td>2003</td>\n",
       "      <td>34.135334</td>\n",
       "      <td>3.458333</td>\n",
       "    </tr>\n",
       "    <tr>\n",
       "      <th>3</th>\n",
       "      <td>52.400002</td>\n",
       "      <td>-170.0</td>\n",
       "      <td>2005</td>\n",
       "      <td>34.184338</td>\n",
       "      <td>3.537999</td>\n",
       "    </tr>\n",
       "    <tr>\n",
       "      <th>4</th>\n",
       "      <td>52.400002</td>\n",
       "      <td>-170.0</td>\n",
       "      <td>2007</td>\n",
       "      <td>34.262669</td>\n",
       "      <td>3.203666</td>\n",
       "    </tr>\n",
       "  </tbody>\n",
       "</table>\n",
       "</div>"
      ],
      "text/plain": [
       "         lat    lon  Year  salinity_bottom  water_temp_bottom\n",
       "0  52.400002 -170.0  1996        34.245998           3.425332\n",
       "1  52.400002 -170.0  1999        34.206333           3.580333\n",
       "2  52.400002 -170.0  2003        34.135334           3.458333\n",
       "3  52.400002 -170.0  2005        34.184338           3.537999\n",
       "4  52.400002 -170.0  2007        34.262669           3.203666"
      ]
     },
     "execution_count": 10,
     "metadata": {},
     "output_type": "execute_result"
    }
   ],
   "source": [
    "df_mean = (df_all\n",
    "           .groupby(['lat', 'lon', 'Year'])\n",
    "           [['salinity_bottom', 'water_temp_bottom']]\n",
    "           .mean()\n",
    "           .reset_index())\n",
    "df_mean['Year'] = df_mean['Year'].astype('int64')\n",
    "df_mean.head()"
   ]
  },
  {
   "cell_type": "markdown",
   "id": "7d0ff855-fa35-4628-bf34-791629138143",
   "metadata": {},
   "source": [
    "#### 1.3 Merging the two data sets"
   ]
  },
  {
   "cell_type": "code",
   "execution_count": 24,
   "id": "f512bb50",
   "metadata": {},
   "outputs": [],
   "source": [
    "def dist(lat1, long1, lat2, long2):\n",
    "    \"\"\"\n",
    "    https://medium.com/analytics-vidhya/finding-nearest-pair-of-latitude-and-longitude-match-using-python-ce50d62af546\n",
    "    \"\"\"\n",
    "    # convert decimal degrees to radians \n",
    "    lat1, long1, lat2, long2 = map(radians, [lat1, long1, lat2, long2])\n",
    "    # haversine formula \n",
    "    dlon = long2 - long1 \n",
    "    dlat = lat2 - lat1 \n",
    "    a = sin(dlat/2)**2 + cos(lat1) * cos(lat2) * sin(dlon/2)**2\n",
    "    c = 2 * asin(sqrt(a)) \n",
    "    # Radius of earth in kilometers is 6371\n",
    "    km = 6371* c\n",
    "    return km\n",
    "\n",
    "def find_nearest(lat, long, df, target):\n",
    "    distances = df.apply(lambda row: dist(lat, long, row['lat'], row['lon']), axis=1)\n",
    "    return df.loc[distances.idxmin(), target]"
   ]
  },
  {
   "cell_type": "code",
   "execution_count": 26,
   "id": "deef934e",
   "metadata": {},
   "outputs": [],
   "source": [
    "# test with a subset\n",
    "wp_19 = wp_rounded[wp_rounded['Year'] == 2019]\n",
    "df_mean_19 = df_mean[df_mean['Year'] == 2019]"
   ]
  },
  {
   "cell_type": "code",
   "execution_count": 27,
   "id": "2cc7bd9b",
   "metadata": {
    "collapsed": true
   },
   "outputs": [
    {
     "ename": "KeyboardInterrupt",
     "evalue": "",
     "output_type": "error",
     "traceback": [
      "\u001b[1;31m---------------------------------------------------------------------------\u001b[0m",
      "\u001b[1;31mKeyboardInterrupt\u001b[0m                         Traceback (most recent call last)",
      "Cell \u001b[1;32mIn[27], line 1\u001b[0m\n\u001b[1;32m----> 1\u001b[0m wp_19[\u001b[38;5;124m'\u001b[39m\u001b[38;5;124msalinity_bottom\u001b[39m\u001b[38;5;124m'\u001b[39m] \u001b[38;5;241m=\u001b[39m wp_19\u001b[38;5;241m.\u001b[39mapply(\u001b[38;5;28;01mlambda\u001b[39;00m row: find_nearest(row[\u001b[38;5;124m'\u001b[39m\u001b[38;5;124mLAT\u001b[39m\u001b[38;5;124m'\u001b[39m], row[\u001b[38;5;124m'\u001b[39m\u001b[38;5;124mLON\u001b[39m\u001b[38;5;124m'\u001b[39m], df_mean_19, \u001b[38;5;124m'\u001b[39m\u001b[38;5;124msalinity_bottom\u001b[39m\u001b[38;5;124m'\u001b[39m), axis\u001b[38;5;241m=\u001b[39m\u001b[38;5;241m1\u001b[39m)\n\u001b[0;32m      2\u001b[0m wp_19[\u001b[38;5;124m'\u001b[39m\u001b[38;5;124mwater_temp_bottom\u001b[39m\u001b[38;5;124m'\u001b[39m] \u001b[38;5;241m=\u001b[39m wp_19\u001b[38;5;241m.\u001b[39mapply(\u001b[38;5;28;01mlambda\u001b[39;00m row: find_nearest(row[\u001b[38;5;124m'\u001b[39m\u001b[38;5;124mLAT\u001b[39m\u001b[38;5;124m'\u001b[39m], row[\u001b[38;5;124m'\u001b[39m\u001b[38;5;124mLON\u001b[39m\u001b[38;5;124m'\u001b[39m], df_mean_19, \u001b[38;5;124m'\u001b[39m\u001b[38;5;124mwater_temp_bottom\u001b[39m\u001b[38;5;124m'\u001b[39m), axis\u001b[38;5;241m=\u001b[39m\u001b[38;5;241m1\u001b[39m)\n\u001b[0;32m      4\u001b[0m wp_19\u001b[38;5;241m.\u001b[39mhead()\n",
      "File \u001b[1;32m~\\anaconda3\\envs\\sta561_project\\Lib\\site-packages\\pandas\\core\\frame.py:9568\u001b[0m, in \u001b[0;36mDataFrame.apply\u001b[1;34m(self, func, axis, raw, result_type, args, **kwargs)\u001b[0m\n\u001b[0;32m   9557\u001b[0m \u001b[38;5;28;01mfrom\u001b[39;00m \u001b[38;5;21;01mpandas\u001b[39;00m\u001b[38;5;21;01m.\u001b[39;00m\u001b[38;5;21;01mcore\u001b[39;00m\u001b[38;5;21;01m.\u001b[39;00m\u001b[38;5;21;01mapply\u001b[39;00m \u001b[38;5;28;01mimport\u001b[39;00m frame_apply\n\u001b[0;32m   9559\u001b[0m op \u001b[38;5;241m=\u001b[39m frame_apply(\n\u001b[0;32m   9560\u001b[0m     \u001b[38;5;28mself\u001b[39m,\n\u001b[0;32m   9561\u001b[0m     func\u001b[38;5;241m=\u001b[39mfunc,\n\u001b[1;32m   (...)\u001b[0m\n\u001b[0;32m   9566\u001b[0m     kwargs\u001b[38;5;241m=\u001b[39mkwargs,\n\u001b[0;32m   9567\u001b[0m )\n\u001b[1;32m-> 9568\u001b[0m \u001b[38;5;28;01mreturn\u001b[39;00m op\u001b[38;5;241m.\u001b[39mapply()\u001b[38;5;241m.\u001b[39m__finalize__(\u001b[38;5;28mself\u001b[39m, method\u001b[38;5;241m=\u001b[39m\u001b[38;5;124m\"\u001b[39m\u001b[38;5;124mapply\u001b[39m\u001b[38;5;124m\"\u001b[39m)\n",
      "File \u001b[1;32m~\\anaconda3\\envs\\sta561_project\\Lib\\site-packages\\pandas\\core\\apply.py:764\u001b[0m, in \u001b[0;36mFrameApply.apply\u001b[1;34m(self)\u001b[0m\n\u001b[0;32m    761\u001b[0m \u001b[38;5;28;01melif\u001b[39;00m \u001b[38;5;28mself\u001b[39m\u001b[38;5;241m.\u001b[39mraw:\n\u001b[0;32m    762\u001b[0m     \u001b[38;5;28;01mreturn\u001b[39;00m \u001b[38;5;28mself\u001b[39m\u001b[38;5;241m.\u001b[39mapply_raw()\n\u001b[1;32m--> 764\u001b[0m \u001b[38;5;28;01mreturn\u001b[39;00m \u001b[38;5;28mself\u001b[39m\u001b[38;5;241m.\u001b[39mapply_standard()\n",
      "File \u001b[1;32m~\\anaconda3\\envs\\sta561_project\\Lib\\site-packages\\pandas\\core\\apply.py:891\u001b[0m, in \u001b[0;36mFrameApply.apply_standard\u001b[1;34m(self)\u001b[0m\n\u001b[0;32m    890\u001b[0m \u001b[38;5;28;01mdef\u001b[39;00m \u001b[38;5;21mapply_standard\u001b[39m(\u001b[38;5;28mself\u001b[39m):\n\u001b[1;32m--> 891\u001b[0m     results, res_index \u001b[38;5;241m=\u001b[39m \u001b[38;5;28mself\u001b[39m\u001b[38;5;241m.\u001b[39mapply_series_generator()\n\u001b[0;32m    893\u001b[0m     \u001b[38;5;66;03m# wrap results\u001b[39;00m\n\u001b[0;32m    894\u001b[0m     \u001b[38;5;28;01mreturn\u001b[39;00m \u001b[38;5;28mself\u001b[39m\u001b[38;5;241m.\u001b[39mwrap_results(results, res_index)\n",
      "File \u001b[1;32m~\\anaconda3\\envs\\sta561_project\\Lib\\site-packages\\pandas\\core\\apply.py:907\u001b[0m, in \u001b[0;36mFrameApply.apply_series_generator\u001b[1;34m(self)\u001b[0m\n\u001b[0;32m    904\u001b[0m \u001b[38;5;28;01mwith\u001b[39;00m option_context(\u001b[38;5;124m\"\u001b[39m\u001b[38;5;124mmode.chained_assignment\u001b[39m\u001b[38;5;124m\"\u001b[39m, \u001b[38;5;28;01mNone\u001b[39;00m):\n\u001b[0;32m    905\u001b[0m     \u001b[38;5;28;01mfor\u001b[39;00m i, v \u001b[38;5;129;01min\u001b[39;00m \u001b[38;5;28menumerate\u001b[39m(series_gen):\n\u001b[0;32m    906\u001b[0m         \u001b[38;5;66;03m# ignore SettingWithCopy here in case the user mutates\u001b[39;00m\n\u001b[1;32m--> 907\u001b[0m         results[i] \u001b[38;5;241m=\u001b[39m \u001b[38;5;28mself\u001b[39m\u001b[38;5;241m.\u001b[39mf(v)\n\u001b[0;32m    908\u001b[0m         \u001b[38;5;28;01mif\u001b[39;00m \u001b[38;5;28misinstance\u001b[39m(results[i], ABCSeries):\n\u001b[0;32m    909\u001b[0m             \u001b[38;5;66;03m# If we have a view on v, we need to make a copy because\u001b[39;00m\n\u001b[0;32m    910\u001b[0m             \u001b[38;5;66;03m#  series_generator will swap out the underlying data\u001b[39;00m\n\u001b[0;32m    911\u001b[0m             results[i] \u001b[38;5;241m=\u001b[39m results[i]\u001b[38;5;241m.\u001b[39mcopy(deep\u001b[38;5;241m=\u001b[39m\u001b[38;5;28;01mFalse\u001b[39;00m)\n",
      "Cell \u001b[1;32mIn[27], line 1\u001b[0m, in \u001b[0;36m<lambda>\u001b[1;34m(row)\u001b[0m\n\u001b[1;32m----> 1\u001b[0m wp_19[\u001b[38;5;124m'\u001b[39m\u001b[38;5;124msalinity_bottom\u001b[39m\u001b[38;5;124m'\u001b[39m] \u001b[38;5;241m=\u001b[39m wp_19\u001b[38;5;241m.\u001b[39mapply(\u001b[38;5;28;01mlambda\u001b[39;00m row: find_nearest(row[\u001b[38;5;124m'\u001b[39m\u001b[38;5;124mLAT\u001b[39m\u001b[38;5;124m'\u001b[39m], row[\u001b[38;5;124m'\u001b[39m\u001b[38;5;124mLON\u001b[39m\u001b[38;5;124m'\u001b[39m], df_mean_19, \u001b[38;5;124m'\u001b[39m\u001b[38;5;124msalinity_bottom\u001b[39m\u001b[38;5;124m'\u001b[39m), axis\u001b[38;5;241m=\u001b[39m\u001b[38;5;241m1\u001b[39m)\n\u001b[0;32m      2\u001b[0m wp_19[\u001b[38;5;124m'\u001b[39m\u001b[38;5;124mwater_temp_bottom\u001b[39m\u001b[38;5;124m'\u001b[39m] \u001b[38;5;241m=\u001b[39m wp_19\u001b[38;5;241m.\u001b[39mapply(\u001b[38;5;28;01mlambda\u001b[39;00m row: find_nearest(row[\u001b[38;5;124m'\u001b[39m\u001b[38;5;124mLAT\u001b[39m\u001b[38;5;124m'\u001b[39m], row[\u001b[38;5;124m'\u001b[39m\u001b[38;5;124mLON\u001b[39m\u001b[38;5;124m'\u001b[39m], df_mean_19, \u001b[38;5;124m'\u001b[39m\u001b[38;5;124mwater_temp_bottom\u001b[39m\u001b[38;5;124m'\u001b[39m), axis\u001b[38;5;241m=\u001b[39m\u001b[38;5;241m1\u001b[39m)\n\u001b[0;32m      4\u001b[0m wp_19\u001b[38;5;241m.\u001b[39mhead()\n",
      "Cell \u001b[1;32mIn[24], line 17\u001b[0m, in \u001b[0;36mfind_nearest\u001b[1;34m(lat, long, df, target)\u001b[0m\n\u001b[0;32m     16\u001b[0m \u001b[38;5;28;01mdef\u001b[39;00m \u001b[38;5;21mfind_nearest\u001b[39m(lat, long, df, target):\n\u001b[1;32m---> 17\u001b[0m     distances \u001b[38;5;241m=\u001b[39m df\u001b[38;5;241m.\u001b[39mapply(\u001b[38;5;28;01mlambda\u001b[39;00m row: dist(lat, long, row[\u001b[38;5;124m'\u001b[39m\u001b[38;5;124mlat\u001b[39m\u001b[38;5;124m'\u001b[39m], row[\u001b[38;5;124m'\u001b[39m\u001b[38;5;124mlon\u001b[39m\u001b[38;5;124m'\u001b[39m]), axis\u001b[38;5;241m=\u001b[39m\u001b[38;5;241m1\u001b[39m)\n\u001b[0;32m     18\u001b[0m     \u001b[38;5;28;01mreturn\u001b[39;00m df\u001b[38;5;241m.\u001b[39mloc[distances\u001b[38;5;241m.\u001b[39midxmin(), target]\n",
      "File \u001b[1;32m~\\anaconda3\\envs\\sta561_project\\Lib\\site-packages\\pandas\\core\\frame.py:9568\u001b[0m, in \u001b[0;36mDataFrame.apply\u001b[1;34m(self, func, axis, raw, result_type, args, **kwargs)\u001b[0m\n\u001b[0;32m   9557\u001b[0m \u001b[38;5;28;01mfrom\u001b[39;00m \u001b[38;5;21;01mpandas\u001b[39;00m\u001b[38;5;21;01m.\u001b[39;00m\u001b[38;5;21;01mcore\u001b[39;00m\u001b[38;5;21;01m.\u001b[39;00m\u001b[38;5;21;01mapply\u001b[39;00m \u001b[38;5;28;01mimport\u001b[39;00m frame_apply\n\u001b[0;32m   9559\u001b[0m op \u001b[38;5;241m=\u001b[39m frame_apply(\n\u001b[0;32m   9560\u001b[0m     \u001b[38;5;28mself\u001b[39m,\n\u001b[0;32m   9561\u001b[0m     func\u001b[38;5;241m=\u001b[39mfunc,\n\u001b[1;32m   (...)\u001b[0m\n\u001b[0;32m   9566\u001b[0m     kwargs\u001b[38;5;241m=\u001b[39mkwargs,\n\u001b[0;32m   9567\u001b[0m )\n\u001b[1;32m-> 9568\u001b[0m \u001b[38;5;28;01mreturn\u001b[39;00m op\u001b[38;5;241m.\u001b[39mapply()\u001b[38;5;241m.\u001b[39m__finalize__(\u001b[38;5;28mself\u001b[39m, method\u001b[38;5;241m=\u001b[39m\u001b[38;5;124m\"\u001b[39m\u001b[38;5;124mapply\u001b[39m\u001b[38;5;124m\"\u001b[39m)\n",
      "File \u001b[1;32m~\\anaconda3\\envs\\sta561_project\\Lib\\site-packages\\pandas\\core\\apply.py:764\u001b[0m, in \u001b[0;36mFrameApply.apply\u001b[1;34m(self)\u001b[0m\n\u001b[0;32m    761\u001b[0m \u001b[38;5;28;01melif\u001b[39;00m \u001b[38;5;28mself\u001b[39m\u001b[38;5;241m.\u001b[39mraw:\n\u001b[0;32m    762\u001b[0m     \u001b[38;5;28;01mreturn\u001b[39;00m \u001b[38;5;28mself\u001b[39m\u001b[38;5;241m.\u001b[39mapply_raw()\n\u001b[1;32m--> 764\u001b[0m \u001b[38;5;28;01mreturn\u001b[39;00m \u001b[38;5;28mself\u001b[39m\u001b[38;5;241m.\u001b[39mapply_standard()\n",
      "File \u001b[1;32m~\\anaconda3\\envs\\sta561_project\\Lib\\site-packages\\pandas\\core\\apply.py:891\u001b[0m, in \u001b[0;36mFrameApply.apply_standard\u001b[1;34m(self)\u001b[0m\n\u001b[0;32m    890\u001b[0m \u001b[38;5;28;01mdef\u001b[39;00m \u001b[38;5;21mapply_standard\u001b[39m(\u001b[38;5;28mself\u001b[39m):\n\u001b[1;32m--> 891\u001b[0m     results, res_index \u001b[38;5;241m=\u001b[39m \u001b[38;5;28mself\u001b[39m\u001b[38;5;241m.\u001b[39mapply_series_generator()\n\u001b[0;32m    893\u001b[0m     \u001b[38;5;66;03m# wrap results\u001b[39;00m\n\u001b[0;32m    894\u001b[0m     \u001b[38;5;28;01mreturn\u001b[39;00m \u001b[38;5;28mself\u001b[39m\u001b[38;5;241m.\u001b[39mwrap_results(results, res_index)\n",
      "File \u001b[1;32m~\\anaconda3\\envs\\sta561_project\\Lib\\site-packages\\pandas\\core\\apply.py:907\u001b[0m, in \u001b[0;36mFrameApply.apply_series_generator\u001b[1;34m(self)\u001b[0m\n\u001b[0;32m    904\u001b[0m \u001b[38;5;28;01mwith\u001b[39;00m option_context(\u001b[38;5;124m\"\u001b[39m\u001b[38;5;124mmode.chained_assignment\u001b[39m\u001b[38;5;124m\"\u001b[39m, \u001b[38;5;28;01mNone\u001b[39;00m):\n\u001b[0;32m    905\u001b[0m     \u001b[38;5;28;01mfor\u001b[39;00m i, v \u001b[38;5;129;01min\u001b[39;00m \u001b[38;5;28menumerate\u001b[39m(series_gen):\n\u001b[0;32m    906\u001b[0m         \u001b[38;5;66;03m# ignore SettingWithCopy here in case the user mutates\u001b[39;00m\n\u001b[1;32m--> 907\u001b[0m         results[i] \u001b[38;5;241m=\u001b[39m \u001b[38;5;28mself\u001b[39m\u001b[38;5;241m.\u001b[39mf(v)\n\u001b[0;32m    908\u001b[0m         \u001b[38;5;28;01mif\u001b[39;00m \u001b[38;5;28misinstance\u001b[39m(results[i], ABCSeries):\n\u001b[0;32m    909\u001b[0m             \u001b[38;5;66;03m# If we have a view on v, we need to make a copy because\u001b[39;00m\n\u001b[0;32m    910\u001b[0m             \u001b[38;5;66;03m#  series_generator will swap out the underlying data\u001b[39;00m\n\u001b[0;32m    911\u001b[0m             results[i] \u001b[38;5;241m=\u001b[39m results[i]\u001b[38;5;241m.\u001b[39mcopy(deep\u001b[38;5;241m=\u001b[39m\u001b[38;5;28;01mFalse\u001b[39;00m)\n",
      "Cell \u001b[1;32mIn[24], line 17\u001b[0m, in \u001b[0;36mfind_nearest.<locals>.<lambda>\u001b[1;34m(row)\u001b[0m\n\u001b[0;32m     16\u001b[0m \u001b[38;5;28;01mdef\u001b[39;00m \u001b[38;5;21mfind_nearest\u001b[39m(lat, long, df, target):\n\u001b[1;32m---> 17\u001b[0m     distances \u001b[38;5;241m=\u001b[39m df\u001b[38;5;241m.\u001b[39mapply(\u001b[38;5;28;01mlambda\u001b[39;00m row: dist(lat, long, row[\u001b[38;5;124m'\u001b[39m\u001b[38;5;124mlat\u001b[39m\u001b[38;5;124m'\u001b[39m], row[\u001b[38;5;124m'\u001b[39m\u001b[38;5;124mlon\u001b[39m\u001b[38;5;124m'\u001b[39m]), axis\u001b[38;5;241m=\u001b[39m\u001b[38;5;241m1\u001b[39m)\n\u001b[0;32m     18\u001b[0m     \u001b[38;5;28;01mreturn\u001b[39;00m df\u001b[38;5;241m.\u001b[39mloc[distances\u001b[38;5;241m.\u001b[39midxmin(), target]\n",
      "Cell \u001b[1;32mIn[24], line 10\u001b[0m, in \u001b[0;36mdist\u001b[1;34m(lat1, long1, lat2, long2)\u001b[0m\n\u001b[0;32m      8\u001b[0m dlon \u001b[38;5;241m=\u001b[39m long2 \u001b[38;5;241m-\u001b[39m long1 \n\u001b[0;32m      9\u001b[0m dlat \u001b[38;5;241m=\u001b[39m lat2 \u001b[38;5;241m-\u001b[39m lat1 \n\u001b[1;32m---> 10\u001b[0m a \u001b[38;5;241m=\u001b[39m sin(dlat\u001b[38;5;241m/\u001b[39m\u001b[38;5;241m2\u001b[39m)\u001b[38;5;241m*\u001b[39m\u001b[38;5;241m*\u001b[39m\u001b[38;5;241m2\u001b[39m \u001b[38;5;241m+\u001b[39m cos(lat1) \u001b[38;5;241m*\u001b[39m cos(lat2) \u001b[38;5;241m*\u001b[39m sin(dlon\u001b[38;5;241m/\u001b[39m\u001b[38;5;241m2\u001b[39m)\u001b[38;5;241m*\u001b[39m\u001b[38;5;241m*\u001b[39m\u001b[38;5;241m2\u001b[39m\n\u001b[0;32m     11\u001b[0m c \u001b[38;5;241m=\u001b[39m \u001b[38;5;241m2\u001b[39m \u001b[38;5;241m*\u001b[39m asin(sqrt(a)) \n\u001b[0;32m     12\u001b[0m \u001b[38;5;66;03m# Radius of earth in kilometers is 6371\u001b[39;00m\n",
      "\u001b[1;31mKeyboardInterrupt\u001b[0m: "
     ]
    }
   ],
   "source": [
    "# cell not running\n",
    "wp_19['salinity_bottom'] = wp_19.apply(lambda row: find_nearest(row['LAT'], row['LON'], df_mean_19, 'salinity_bottom'), axis=1)\n",
    "wp_19['water_temp_bottom'] = wp_19.apply(lambda row: find_nearest(row['LAT'], row['LON'], df_mean_19, 'water_temp_bottom'), axis=1)\n",
    "\n",
    "wp_19.head()"
   ]
  },
  {
   "cell_type": "code",
   "execution_count": null,
   "id": "9af23d56",
   "metadata": {},
   "outputs": [],
   "source": []
  }
 ],
 "metadata": {
  "kernelspec": {
   "display_name": "Python 3 (ipykernel)",
   "language": "python",
   "name": "python3"
  },
  "language_info": {
   "codemirror_mode": {
    "name": "ipython",
    "version": 3
   },
   "file_extension": ".py",
   "mimetype": "text/x-python",
   "name": "python",
   "nbconvert_exporter": "python",
   "pygments_lexer": "ipython3",
   "version": "3.11.2"
  }
 },
 "nbformat": 4,
 "nbformat_minor": 5
}
