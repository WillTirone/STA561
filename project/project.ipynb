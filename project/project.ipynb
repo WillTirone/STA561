{
 "cells": [
  {
   "cell_type": "markdown",
   "id": "33681dcb-cf46-424c-a37a-a0e259fe8b17",
   "metadata": {},
   "source": [
    "## Project"
   ]
  },
  {
   "cell_type": "code",
   "execution_count": 1,
   "id": "671a14c7-0df6-4dcf-9b85-0e93f7ec8778",
   "metadata": {},
   "outputs": [],
   "source": [
    "import pandas as pd\n",
    "import numpy as np\n",
    "import requests\n",
    "import os\n",
    "import xarray as xr\n",
    "from netCDF4 import Dataset\n",
    "import tempfile\n",
    "from scipy.spatial.distance import cdist\n",
    "from tqdm import tqdm"
   ]
  },
  {
   "cell_type": "markdown",
   "id": "a4cd372a-2bc1-4ba1-a62a-caaf061d49fc",
   "metadata": {},
   "source": [
    "### 1. Data Collection"
   ]
  },
  {
   "cell_type": "markdown",
   "id": "441d984b-df2c-4029-ab76-5f62578fbb8b",
   "metadata": {},
   "source": [
    "#### 1.1 Biomass data"
   ]
  },
  {
   "cell_type": "markdown",
   "id": "2fc458d8-eff5-4626-bcde-b5dba3c6472f",
   "metadata": {},
   "source": [
    "Spatio-temporal data for walleye pollock in the Gulf of Alaska extracted from the NOAA Fisheries website: https://apps-st.fisheries.noaa.gov/dismap/DisMAP.html#single-species-distributions"
   ]
  },
  {
   "cell_type": "code",
   "execution_count": 2,
   "id": "65ca7ad6-e153-4095-8e33-0e65b0bbc7a4",
   "metadata": {},
   "outputs": [],
   "source": [
    "wp_gulf_alaska = pd.read_csv(\"wp_gulf_alaska.csv\")"
   ]
  },
  {
   "cell_type": "code",
   "execution_count": 3,
   "id": "577bbc49-9430-4b99-ae78-f625e0e8b77e",
   "metadata": {},
   "outputs": [
    {
     "data": {
      "text/html": [
       "<div>\n",
       "<style scoped>\n",
       "    .dataframe tbody tr th:only-of-type {\n",
       "        vertical-align: middle;\n",
       "    }\n",
       "\n",
       "    .dataframe tbody tr th {\n",
       "        vertical-align: top;\n",
       "    }\n",
       "\n",
       "    .dataframe thead th {\n",
       "        text-align: right;\n",
       "    }\n",
       "</style>\n",
       "<table border=\"1\" class=\"dataframe\">\n",
       "  <thead>\n",
       "    <tr style=\"text-align: right;\">\n",
       "      <th></th>\n",
       "      <th>HaulID</th>\n",
       "      <th>Stratum</th>\n",
       "      <th>LAT</th>\n",
       "      <th>LON</th>\n",
       "      <th>Depth</th>\n",
       "      <th>Year</th>\n",
       "      <th>wtcpue</th>\n",
       "    </tr>\n",
       "  </thead>\n",
       "  <tbody>\n",
       "    <tr>\n",
       "      <th>0</th>\n",
       "      <td>021-198403-001</td>\n",
       "      <td>350</td>\n",
       "      <td>55.98767</td>\n",
       "      <td>-134.59517</td>\n",
       "      <td>346</td>\n",
       "      <td>1984</td>\n",
       "      <td>0.0000</td>\n",
       "    </tr>\n",
       "    <tr>\n",
       "      <th>1</th>\n",
       "      <td>021-198403-002</td>\n",
       "      <td>251</td>\n",
       "      <td>55.63200</td>\n",
       "      <td>-134.22900</td>\n",
       "      <td>225</td>\n",
       "      <td>1984</td>\n",
       "      <td>4.7482</td>\n",
       "    </tr>\n",
       "    <tr>\n",
       "      <th>2</th>\n",
       "      <td>021-198403-003</td>\n",
       "      <td>151</td>\n",
       "      <td>55.21450</td>\n",
       "      <td>-133.88733</td>\n",
       "      <td>117</td>\n",
       "      <td>1984</td>\n",
       "      <td>1.0413</td>\n",
       "    </tr>\n",
       "    <tr>\n",
       "      <th>3</th>\n",
       "      <td>021-198403-006</td>\n",
       "      <td>151</td>\n",
       "      <td>55.13300</td>\n",
       "      <td>-133.87100</td>\n",
       "      <td>141</td>\n",
       "      <td>1984</td>\n",
       "      <td>1.3450</td>\n",
       "    </tr>\n",
       "    <tr>\n",
       "      <th>4</th>\n",
       "      <td>021-198403-007</td>\n",
       "      <td>151</td>\n",
       "      <td>55.12550</td>\n",
       "      <td>-134.00167</td>\n",
       "      <td>170</td>\n",
       "      <td>1984</td>\n",
       "      <td>0.2030</td>\n",
       "    </tr>\n",
       "  </tbody>\n",
       "</table>\n",
       "</div>"
      ],
      "text/plain": [
       "           HaulID  Stratum       LAT        LON  Depth  Year  wtcpue\n",
       "0  021-198403-001      350  55.98767 -134.59517    346  1984  0.0000\n",
       "1  021-198403-002      251  55.63200 -134.22900    225  1984  4.7482\n",
       "2  021-198403-003      151  55.21450 -133.88733    117  1984  1.0413\n",
       "3  021-198403-006      151  55.13300 -133.87100    141  1984  1.3450\n",
       "4  021-198403-007      151  55.12550 -134.00167    170  1984  0.2030"
      ]
     },
     "execution_count": 3,
     "metadata": {},
     "output_type": "execute_result"
    }
   ],
   "source": [
    "wp_gulf_alaska.head()"
   ]
  },
  {
   "cell_type": "markdown",
   "id": "878dc3cb-c06d-4393-994a-7091e7fc5dc2",
   "metadata": {},
   "source": [
    "Columns:\n",
    "- HaulID / Stratum: characterizes the survey expedition and catch throw.\n",
    "- LAT / LON: Latitude and Longitude of survey catch\n",
    "- Depth: Sea depth measured in meters below sea level.\n",
    "- Year: No other timestamp is provided. However, documentation specify that all surveys have been conducted during summer months.\n",
    "- wtcpue: survey catch measured in kg per ha.\n"
   ]
  },
  {
   "cell_type": "markdown",
   "id": "4fed668c-4bb8-460c-aabc-70db0d143aaf",
   "metadata": {},
   "source": [
    "#### 1.2 Oceanographic data"
   ]
  },
  {
   "cell_type": "markdown",
   "id": "9b373840-3f2c-4f16-b967-5d8e62689b48",
   "metadata": {},
   "source": [
    "We web-scrape temperaturate and salinaty geospatial data from HyCOM (Hybrid Coordinate Ocean Model) using their NCSS request URL. Since there is too much data, we have decided to only get a sample from the first day of each summer month (July 1st, August 1st and September 1st). Of course, including more points should improve our model. Then again, we don't have a timestamp associated with each survey, just the year.\n",
    "\n",
    "We will extract data from this geographic region:\n",
    "- North limit: 60.32\n",
    "- South limit: 52.41\n",
    "- West limit: -170\n",
    "- East limit: -132.5\n",
    "\n",
    "Unfortunately, we do not have data prior to 1995. "
   ]
  },
  {
   "cell_type": "code",
   "execution_count": 4,
   "id": "faa337d2-d4c5-4556-b4ef-72a46d617d03",
   "metadata": {},
   "outputs": [
    {
     "name": "stderr",
     "output_type": "stream",
     "text": [
      "1996: 100% 3/3 [00:06<00:00,  2.22s/it]\n",
      "1999: 100% 3/3 [00:12<00:00,  4.02s/it]\n",
      "2003: 100% 3/3 [00:03<00:00,  1.33s/it]\n",
      "2005: 100% 3/3 [00:03<00:00,  1.18s/it]\n",
      "2007: 100% 3/3 [00:04<00:00,  1.41s/it]\n",
      "2009: 100% 3/3 [00:09<00:00,  3.08s/it]\n",
      "2011: 100% 3/3 [00:09<00:00,  3.30s/it]\n",
      "2013: 100% 3/3 [00:10<00:00,  3.48s/it]\n",
      "2015: 100% 3/3 [00:11<00:00,  3.86s/it]\n",
      "2017: 100% 3/3 [00:01<00:00,  1.57it/s]\n",
      "2019: 100% 3/3 [01:16<00:00, 25.48s/it]\n"
     ]
    }
   ],
   "source": [
    "# Define the list of years and months\n",
    "year_list = [1996, 1999, 2003, 2005, 2007, 2009, 2011, 2013, 2015, 2017, 2019]\n",
    "month_list = [7, 8, 9]\n",
    "this_folder = os.getcwd()\n",
    "# Create an empty DataFrame to store the results\n",
    "df_all = pd.DataFrame()\n",
    "\n",
    "# Loop over each desired year and month, and add a progress bar\n",
    "for year in year_list:\n",
    "    for month in tqdm(month_list, desc=f'{year}'):\n",
    "        # Define the date string\n",
    "        date_str = f'{year}-{month:02d}-01T09:00:00Z'\n",
    "        # Define the URL with the fixed parameters\n",
    "        if year <=2015:\n",
    "            url = \"https://ncss.hycom.org/thredds/ncss/GLBv0.08/expt_53.X/data/\"+str(year)+\"?var=salinity_bottom&var=water_temp_bottom&north=60.32&west=-170&east=-132.5&south=52.41&horizStride=1&vertCoord=&accept=netcdf4\"\n",
    "        elif year == 2017:\n",
    "            url = \"https://ncss.hycom.org/thredds/ncss/GLBv0.08/expt_57.7?var=salinity_bottom&var=water_temp_bottom&north=60.32&west=-170&east=-132.5&south=52.41&horizStride=1&vertCoord=&accept=netcdf4\"\n",
    "        else:\n",
    "            url = \"https://ncss.hycom.org/thredds/ncss/GLBv0.08/expt_93.0/ts3z?var=salinity_bottom&var=water_temp_bottom&north=60.32&west=-170&east=-132.5&south=52.41&horizStride=1&vertCoord=&accept=netcdf4\"\n",
    "        \n",
    "        my_file = os.path.join(this_folder, 'temp', f'example-{date_str[:10]}.nc4')\n",
    "        # Add the date parameter to the URL\n",
    "        url_day = f'{url}&time={date_str}'\n",
    "        # Download the data and save it to a file\n",
    "        downloaded_obj = requests.get(url_day)\n",
    "        with open(my_file, \"wb\") as file:\n",
    "            file.write(downloaded_obj.content)\n",
    "            del downloaded_obj\n",
    "        # Open the NetCDF file and convert it to a pandas DataFrame\n",
    "        ds = xr.open_dataset(my_file)\n",
    "        df_temp = ds.to_dataframe().reset_index()\n",
    "        # Append the DataFrame to the overall DataFrame\n",
    "        df_all = pd.concat([df_all, df_temp], ignore_index=True)"
   ]
  },
  {
   "cell_type": "code",
   "execution_count": 5,
   "id": "c8bb7b1e-848c-4dae-b3ee-400f1e26346f",
   "metadata": {},
   "outputs": [],
   "source": [
    "df_all[\"LAT_rounded\"] = round(df_all[\"lat\"], 2)\n",
    "df_all[\"LON_rounded\"] = round(df_all[\"lon\"], 2)\n",
    "df_all[\"Year\"] = df_all['time'].dt.strftime('%Y')"
   ]
  },
  {
   "cell_type": "code",
   "execution_count": 6,
   "id": "c9a59262-4f2c-4c76-bfbe-1452aefc52e2",
   "metadata": {},
   "outputs": [
    {
     "data": {
      "text/html": [
       "<div>\n",
       "<style scoped>\n",
       "    .dataframe tbody tr th:only-of-type {\n",
       "        vertical-align: middle;\n",
       "    }\n",
       "\n",
       "    .dataframe tbody tr th {\n",
       "        vertical-align: top;\n",
       "    }\n",
       "\n",
       "    .dataframe thead th {\n",
       "        text-align: right;\n",
       "    }\n",
       "</style>\n",
       "<table border=\"1\" class=\"dataframe\">\n",
       "  <thead>\n",
       "    <tr style=\"text-align: right;\">\n",
       "      <th></th>\n",
       "      <th>LAT_rounded</th>\n",
       "      <th>LON_rounded</th>\n",
       "      <th>Year</th>\n",
       "      <th>salinity_bottom</th>\n",
       "      <th>water_temp_bottom</th>\n",
       "    </tr>\n",
       "  </thead>\n",
       "  <tbody>\n",
       "    <tr>\n",
       "      <th>0</th>\n",
       "      <td>52.4</td>\n",
       "      <td>-170.0</td>\n",
       "      <td>1996</td>\n",
       "      <td>34.245998</td>\n",
       "      <td>3.425332</td>\n",
       "    </tr>\n",
       "    <tr>\n",
       "      <th>1</th>\n",
       "      <td>52.4</td>\n",
       "      <td>-170.0</td>\n",
       "      <td>1999</td>\n",
       "      <td>34.206333</td>\n",
       "      <td>3.580333</td>\n",
       "    </tr>\n",
       "    <tr>\n",
       "      <th>2</th>\n",
       "      <td>52.4</td>\n",
       "      <td>-170.0</td>\n",
       "      <td>2003</td>\n",
       "      <td>34.135334</td>\n",
       "      <td>3.458333</td>\n",
       "    </tr>\n",
       "    <tr>\n",
       "      <th>3</th>\n",
       "      <td>52.4</td>\n",
       "      <td>-170.0</td>\n",
       "      <td>2005</td>\n",
       "      <td>34.184338</td>\n",
       "      <td>3.537999</td>\n",
       "    </tr>\n",
       "    <tr>\n",
       "      <th>4</th>\n",
       "      <td>52.4</td>\n",
       "      <td>-170.0</td>\n",
       "      <td>2007</td>\n",
       "      <td>34.262669</td>\n",
       "      <td>3.203666</td>\n",
       "    </tr>\n",
       "  </tbody>\n",
       "</table>\n",
       "</div>"
      ],
      "text/plain": [
       "   LAT_rounded  LON_rounded  Year  salinity_bottom  water_temp_bottom\n",
       "0         52.4       -170.0  1996        34.245998           3.425332\n",
       "1         52.4       -170.0  1999        34.206333           3.580333\n",
       "2         52.4       -170.0  2003        34.135334           3.458333\n",
       "3         52.4       -170.0  2005        34.184338           3.537999\n",
       "4         52.4       -170.0  2007        34.262669           3.203666"
      ]
     },
     "execution_count": 6,
     "metadata": {},
     "output_type": "execute_result"
    }
   ],
   "source": [
    "df_mean = df_all.groupby(['LAT_rounded', 'LON_rounded', 'Year'])[['salinity_bottom', 'water_temp_bottom']].mean().reset_index()\n",
    "df_mean['Year'] = df_mean['Year'].astype('int64')\n",
    "df_mean.head()"
   ]
  },
  {
   "cell_type": "code",
   "execution_count": 7,
   "id": "24a63fd5-89f4-4cba-bdcf-88e25a467be5",
   "metadata": {},
   "outputs": [],
   "source": [
    "df_mean.to_csv('oceanographic_data.csv')  "
   ]
  },
  {
   "cell_type": "markdown",
   "id": "7d0ff855-fa35-4628-bf34-791629138143",
   "metadata": {},
   "source": [
    "#### 1.3 Merging the two data sets"
   ]
  },
  {
   "cell_type": "code",
   "execution_count": 8,
   "id": "9dc60420-7264-4bcd-a0a5-bc68bdcd98d1",
   "metadata": {},
   "outputs": [
    {
     "data": {
      "text/html": [
       "<div>\n",
       "<style scoped>\n",
       "    .dataframe tbody tr th:only-of-type {\n",
       "        vertical-align: middle;\n",
       "    }\n",
       "\n",
       "    .dataframe tbody tr th {\n",
       "        vertical-align: top;\n",
       "    }\n",
       "\n",
       "    .dataframe thead th {\n",
       "        text-align: right;\n",
       "    }\n",
       "</style>\n",
       "<table border=\"1\" class=\"dataframe\">\n",
       "  <thead>\n",
       "    <tr style=\"text-align: right;\">\n",
       "      <th></th>\n",
       "      <th>HaulID</th>\n",
       "      <th>Stratum</th>\n",
       "      <th>LAT</th>\n",
       "      <th>LON</th>\n",
       "      <th>Depth</th>\n",
       "      <th>Year</th>\n",
       "      <th>wtcpue</th>\n",
       "      <th>LAT_rounded</th>\n",
       "      <th>LON_rounded</th>\n",
       "    </tr>\n",
       "  </thead>\n",
       "  <tbody>\n",
       "    <tr>\n",
       "      <th>0</th>\n",
       "      <td>021-198403-001</td>\n",
       "      <td>350</td>\n",
       "      <td>55.98767</td>\n",
       "      <td>-134.59517</td>\n",
       "      <td>346</td>\n",
       "      <td>1984</td>\n",
       "      <td>0.0000</td>\n",
       "      <td>55.99</td>\n",
       "      <td>-134.60</td>\n",
       "    </tr>\n",
       "    <tr>\n",
       "      <th>1</th>\n",
       "      <td>021-198403-002</td>\n",
       "      <td>251</td>\n",
       "      <td>55.63200</td>\n",
       "      <td>-134.22900</td>\n",
       "      <td>225</td>\n",
       "      <td>1984</td>\n",
       "      <td>4.7482</td>\n",
       "      <td>55.63</td>\n",
       "      <td>-134.23</td>\n",
       "    </tr>\n",
       "    <tr>\n",
       "      <th>2</th>\n",
       "      <td>021-198403-003</td>\n",
       "      <td>151</td>\n",
       "      <td>55.21450</td>\n",
       "      <td>-133.88733</td>\n",
       "      <td>117</td>\n",
       "      <td>1984</td>\n",
       "      <td>1.0413</td>\n",
       "      <td>55.21</td>\n",
       "      <td>-133.89</td>\n",
       "    </tr>\n",
       "    <tr>\n",
       "      <th>3</th>\n",
       "      <td>021-198403-006</td>\n",
       "      <td>151</td>\n",
       "      <td>55.13300</td>\n",
       "      <td>-133.87100</td>\n",
       "      <td>141</td>\n",
       "      <td>1984</td>\n",
       "      <td>1.3450</td>\n",
       "      <td>55.13</td>\n",
       "      <td>-133.87</td>\n",
       "    </tr>\n",
       "    <tr>\n",
       "      <th>4</th>\n",
       "      <td>021-198403-007</td>\n",
       "      <td>151</td>\n",
       "      <td>55.12550</td>\n",
       "      <td>-134.00167</td>\n",
       "      <td>170</td>\n",
       "      <td>1984</td>\n",
       "      <td>0.2030</td>\n",
       "      <td>55.13</td>\n",
       "      <td>-134.00</td>\n",
       "    </tr>\n",
       "  </tbody>\n",
       "</table>\n",
       "</div>"
      ],
      "text/plain": [
       "           HaulID  Stratum       LAT        LON  Depth  Year  wtcpue  \\\n",
       "0  021-198403-001      350  55.98767 -134.59517    346  1984  0.0000   \n",
       "1  021-198403-002      251  55.63200 -134.22900    225  1984  4.7482   \n",
       "2  021-198403-003      151  55.21450 -133.88733    117  1984  1.0413   \n",
       "3  021-198403-006      151  55.13300 -133.87100    141  1984  1.3450   \n",
       "4  021-198403-007      151  55.12550 -134.00167    170  1984  0.2030   \n",
       "\n",
       "   LAT_rounded  LON_rounded  \n",
       "0        55.99      -134.60  \n",
       "1        55.63      -134.23  \n",
       "2        55.21      -133.89  \n",
       "3        55.13      -133.87  \n",
       "4        55.13      -134.00  "
      ]
     },
     "execution_count": 8,
     "metadata": {},
     "output_type": "execute_result"
    }
   ],
   "source": [
    "wp_rounded = wp_gulf_alaska.copy()\n",
    "wp_rounded[\"LAT_rounded\"] = round(wp_rounded[\"LAT\"], 2)\n",
    "wp_rounded[\"LON_rounded\"] = round(wp_rounded[\"LON\"], 2)\n",
    "wp_rounded['Year'] = wp_rounded['Year'].astype('int64')\n",
    "wp_rounded.head()"
   ]
  },
  {
   "cell_type": "code",
   "execution_count": 9,
   "id": "fadf960c-7ee6-4c80-bf12-f89ec17196e5",
   "metadata": {},
   "outputs": [],
   "source": [
    "#df_joined = wp_rounded.merge(df_mean, on=['LAT_rounded', 'LON_rounded', 'Year'])\n",
    "#df_joined"
   ]
  },
  {
   "cell_type": "code",
   "execution_count": null,
   "id": "edb692a8-fdd1-4815-aef7-356edfa604c2",
   "metadata": {},
   "outputs": [],
   "source": []
  }
 ],
 "metadata": {
  "kernelspec": {
   "display_name": "Python 3 (ipykernel)",
   "language": "python",
   "name": "python3"
  },
  "language_info": {
   "codemirror_mode": {
    "name": "ipython",
    "version": 3
   },
   "file_extension": ".py",
   "mimetype": "text/x-python",
   "name": "python",
   "nbconvert_exporter": "python",
   "pygments_lexer": "ipython3",
   "version": "3.10.6"
  }
 },
 "nbformat": 4,
 "nbformat_minor": 5
}
