{
 "cells": [
  {
   "cell_type": "code",
   "execution_count": 36,
   "id": "30174497",
   "metadata": {},
   "outputs": [],
   "source": [
    "import numpy as np \n",
    "from sklearn.linear_model import LinearRegression, Ridge, Lasso\n",
    "from sklearn.model_selection import train_test_split, KFold, cross_val_score\n",
    "from sklearn import datasets"
   ]
  },
  {
   "cell_type": "code",
   "execution_count": 106,
   "id": "add6bf93",
   "metadata": {
    "scrolled": true
   },
   "outputs": [],
   "source": [
    "def tune_bb(algo, X, y, \n",
    "            regularization=\"Dropout\", M=10, \n",
    "            c=None, K=5, criterion=\"MSE\"):\n",
    "\n",
    "    \"\"\"function to automatically tune blackbox regression model\n",
    "    \n",
    "    Parameters:\n",
    "    -----------\n",
    "\n",
    "    algo : callable\n",
    "        A learning algorithm that takes as input a matrix X in R nxp\n",
    "        and a vector of responses Y in Rn and returns a function that\n",
    "        maps inputs to outputs. Must have methods like .fit() and .predict()\n",
    "    X : array-like of shape (n,p)\n",
    "        training data X in R nxp\n",
    "    y : array-like of shape (n,)\n",
    "        training labels, Y, in Rn\n",
    "    regularization : str, default=\"Dropout\"\n",
    "        regularization method, can be any of \"Dropout\",\n",
    "        \"NoiseAddition\", or \"Robust\"\n",
    "    M : int, default=\n",
    "        A positive integer indicating the number of Monte Carlo\n",
    "        replicates to be used if the method specified is Dropout or \n",
    "        NoiseAddition\n",
    "    c : default=None\n",
    "        A vector of column bounds to be used if method specified is \"Robust\"\n",
    "    K : int, default=5\n",
    "        A positive integer indicating the number of CV-folds to be used to \n",
    "        tune the amount of regularization, e.g., K = 5 indicates five-fold CV\n",
    "    criterion : str, default=\"MSE\"\n",
    "        A criterion to be used to evaluate the method that belongs to the set \n",
    "        {MSE, MAD} where MSE encodes mean square error and MAD encodes mean\n",
    "        absolute deviation.\n",
    "\n",
    "    Returns:\n",
    "    -----------\n",
    "    tuned_mode : callable \n",
    "        A tuned predictive model that optimizes the specific criterion using \n",
    "        the specified method\n",
    "\n",
    "    Example:\n",
    "    -----------\n",
    "    >>> tune_bb()\n",
    "    >>> \n",
    "    \"\"\"\n",
    "    \n",
    "    # statements here to ensure model has the methods we need to tune it\n",
    "    assert hasattr(algo, \"fit\"), \"model object must have .fit() method\"\n",
    "    assert hasattr(algo, \"predict\"), \"model object must have .predict() method\"\n",
    "\n",
    "    if criterion == \"MSE\":\n",
    "        criterion = \"neg_mean_squared_error\"\n",
    "    elif criterion == \"MAE\":\n",
    "        criterion = \"neg_mean_absolute_error\"\n",
    "    else:\n",
    "        raise ValueError(\"Please input either MAE or MSE for criterion.\")\n",
    "    \n",
    "    # ridge tuning parameter, for example\n",
    "    # expand this later\n",
    "    parameter_set = np.linspace(0,10,11) # 0 to 10\n",
    "\n",
    "    cv_score_set = []\n",
    "    # begin cross validation\n",
    "    for alpha in parameter_set:\n",
    "        \n",
    "        algo.alpha = alpha\n",
    "        cv = cross_val_score(algo, \n",
    "                             X, \n",
    "                             y, \n",
    "                             scoring=criterion,\n",
    "                             cv=K)\n",
    "\n",
    "        # cv returns negative values, need abs()\n",
    "        cv_score = np.mean(np.absolute(cv))\n",
    "        cv_score_set.append(cv_score)\n",
    "    \n",
    "    minimum_score = cv_score_set.index(np.min(cv_score_set))\n",
    "    alpha_value = parameter_set[minimum_score]\n",
    "\n",
    "    # will change return value later\n",
    "    print(\"CV Scores : \",cv_score_set, \n",
    "          \"Alpha value for minimum : \", alpha_value)\n"
   ]
  },
  {
   "cell_type": "code",
   "execution_count": 107,
   "id": "b601f4d6",
   "metadata": {
    "scrolled": true
   },
   "outputs": [
    {
     "name": "stdout",
     "output_type": "stream",
     "text": [
      "CV Scores :  [0.20580793485737062, 0.21064739059696858, 0.2135713484277618, 0.21544921198881067, 0.216755711162185, 0.21776526175405958, 0.21860265955701436, 0.21925132023297816, 0.21980899618115401, 0.22045671304505232, 0.22101445754354873] Alpha value for minimum :  0.0\n"
     ]
    }
   ],
   "source": [
    "# matrices to play around with and feed into function \n",
    "# NO train test split here, just full data\n",
    "X, y = datasets.load_iris(return_X_y=True)\n",
    "\n",
    "# test here, maybe start testing with Ridge()\n",
    "tune_bb(Ridge(),X,y, criterion=\"MAE\")"
   ]
  },
  {
   "cell_type": "code",
   "execution_count": 103,
   "id": "e3b15421",
   "metadata": {},
   "outputs": [
    {
     "data": {
      "text/plain": [
       "array([ 0.,  1.,  2.,  3.,  4.,  5.,  6.,  7.,  8.,  9., 10.])"
      ]
     },
     "execution_count": 103,
     "metadata": {},
     "output_type": "execute_result"
    }
   ],
   "source": [
    " np.linspace(0,10,11)"
   ]
  },
  {
   "cell_type": "markdown",
   "id": "2e5dbdfd",
   "metadata": {
    "heading_collapsed": true
   },
   "source": [
    "### Scratchwork below"
   ]
  },
  {
   "cell_type": "code",
   "execution_count": 15,
   "id": "0da3ec7e",
   "metadata": {
    "hidden": true
   },
   "outputs": [],
   "source": [
    "# maybe something like this if they all follow the .fit() syntax? \n",
    "def model_test(model,X,y):\n",
    "    return model.fit(X,y)"
   ]
  },
  {
   "cell_type": "code",
   "execution_count": null,
   "id": "6d3c9ac0",
   "metadata": {
    "hidden": true
   },
   "outputs": [],
   "source": [
    "# this passes the model in ?\n",
    "model_test(LinearRegression(), X, y).coef_"
   ]
  },
  {
   "cell_type": "code",
   "execution_count": 18,
   "id": "6ae78d5c",
   "metadata": {
    "hidden": true
   },
   "outputs": [
    {
     "data": {
      "text/plain": [
       "array([[ 0.67567568, -0.05405405, -0.32432432]])"
      ]
     },
     "execution_count": 18,
     "metadata": {},
     "output_type": "execute_result"
    }
   ],
   "source": [
    "model_test(Ridge(), X, y).coef_ # niceeeeeeeeee"
   ]
  },
  {
   "cell_type": "code",
   "execution_count": 20,
   "id": "417e5122",
   "metadata": {
    "hidden": true,
    "scrolled": true
   },
   "outputs": [
    {
     "data": {
      "text/plain": [
       "array([ 0.57894737, -0.        , -0.        ])"
      ]
     },
     "execution_count": 20,
     "metadata": {},
     "output_type": "execute_result"
    }
   ],
   "source": [
    "model_test(Lasso(), X, y).coef_"
   ]
  },
  {
   "cell_type": "markdown",
   "id": "585d312b",
   "metadata": {},
   "source": [
    "### Checking everything on Iris data\n"
   ]
  },
  {
   "cell_type": "code",
   "execution_count": 38,
   "id": "41174f11",
   "metadata": {},
   "outputs": [
    {
     "data": {
      "text/plain": [
       "KFold(n_splits=10, random_state=1, shuffle=True)"
      ]
     },
     "execution_count": 38,
     "metadata": {},
     "output_type": "execute_result"
    }
   ],
   "source": [
    "X_iris, y_iris = datasets.load_iris(return_X_y=True)\n",
    "cv = KFold(n_splits=10, random_state=1, shuffle=True)"
   ]
  },
  {
   "cell_type": "markdown",
   "id": "39da40a3",
   "metadata": {},
   "source": [
    "### Resources and Notes: \n",
    "\n",
    "1. https://www.statology.org/k-fold-cross-validation-in-python/"
   ]
  },
  {
   "cell_type": "code",
   "execution_count": 67,
   "id": "37f97403",
   "metadata": {},
   "outputs": [],
   "source": [
    "# use this to view doc string\n",
    "?tune_bb"
   ]
  },
  {
   "cell_type": "code",
   "execution_count": null,
   "id": "cf4dae31",
   "metadata": {},
   "outputs": [],
   "source": []
  }
 ],
 "metadata": {
  "kernelspec": {
   "display_name": "Python 3 (ipykernel)",
   "language": "python",
   "name": "python3"
  },
  "language_info": {
   "codemirror_mode": {
    "name": "ipython",
    "version": 3
   },
   "file_extension": ".py",
   "mimetype": "text/x-python",
   "name": "python",
   "nbconvert_exporter": "python",
   "pygments_lexer": "ipython3",
   "version": "3.8.11"
  }
 },
 "nbformat": 4,
 "nbformat_minor": 5
}
