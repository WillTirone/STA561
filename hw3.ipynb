{
 "cells": [
  {
   "cell_type": "code",
   "execution_count": 3,
   "id": "30174497",
   "metadata": {},
   "outputs": [],
   "source": [
    "import numpy as np \n",
    "from sklearn.linear_model import LinearRegression, Ridge, Lasso\n",
    "from sklearn.model_selection import train_test_split, KFold, cross_val_score\n",
    "from sklearn import datasets\n",
    "import scipy.stats as st"
   ]
  },
  {
   "cell_type": "code",
   "execution_count": 22,
   "id": "add6bf93",
   "metadata": {
    "scrolled": true
   },
   "outputs": [],
   "source": [
    "def tune_bb(algo, X, y, \n",
    "            regularization=\"Dropout\", M=10, \n",
    "            c=None, K=5, criterion=\"MSE\"):\n",
    "\n",
    "    \"\"\"function to automatically tune blackbox regression model\n",
    "    \n",
    "    Parameters:\n",
    "    -----------\n",
    "\n",
    "    algo : callable\n",
    "        A learning algorithm that takes as input a matrix X in R nxp\n",
    "        and a vector of responses Y in Rn and returns a function that\n",
    "        maps inputs to outputs. Must have methods like .fit() and .predict()\n",
    "    X : array-like of shape (n,p)\n",
    "        training data X in R nxp\n",
    "    y : array-like of shape (n,)\n",
    "        training labels, Y, in Rn\n",
    "    regularization : str, default=\"Dropout\"\n",
    "        regularization method, can be any of \"Dropout\",\n",
    "        \"NoiseAddition\", or \"Robust\"\n",
    "    M : int, default=\n",
    "        A positive integer indicating the number of Monte Carlo\n",
    "        replicates to be used if the method specified is Dropout or \n",
    "        NoiseAddition\n",
    "    c : default=None\n",
    "        A vector of column bounds to be used if method specified is \"Robust\"\n",
    "    K : int, default=5\n",
    "        A positive integer indicating the number of CV-folds to be used to \n",
    "        tune the amount of regularization, e.g., K = 5 indicates five-fold CV\n",
    "    criterion : str, default=\"MSE\"\n",
    "        A criterion to be used to evaluate the method that belongs to the set \n",
    "        {MSE, MAD} where MSE encodes mean square error and MAD encodes mean\n",
    "        absolute deviation.\n",
    "\n",
    "    Returns:\n",
    "    -----------\n",
    "    tuned_mode : callable \n",
    "        A tuned predictive model that optimizes the specific criterion using \n",
    "        the specified method\n",
    "\n",
    "    Example:\n",
    "    -----------\n",
    "    >>> tune_bb()\n",
    "    >>> \n",
    "    \"\"\"\n",
    "    \n",
    "    # statements here to ensure model has the methods we need to tune it\n",
    "    assert hasattr(algo, \"fit\"), \"model object must have .fit() method\"\n",
    "    assert hasattr(algo, \"predict\"), \"model object must have .predict() method\"\n",
    "\n",
    "    if criterion == \"MSE\":\n",
    "        criterion = \"neg_mean_squared_error\"\n",
    "    elif criterion == \"MAE\":\n",
    "        criterion = \"neg_mean_absolute_error\"\n",
    "    else:\n",
    "        raise ValueError(\"Please input either MAE or MSE for criterion.\")\n",
    "    \n",
    "    if regularization == \"Dropout\":\n",
    "        # dropout notes: topic 1 p. 30 \n",
    "        # draw Z matrix\n",
    "        Z = np.random.binomial(1,0.5,size=X.shape)\n",
    "        dropout_matrix = Z * X \n",
    "    elif regularization == \"NoiseAddition\":\n",
    "        print('do something')\n",
    "    elif regularization == \"Robust\":\n",
    "        #Assertion: we don't actually have any reasonable bounds to argue for robust regression here\n",
    "        #Claim: We could take a sample of many matrix M and then choose 1 based on a criteria to fit our regression\n",
    "        maxmatrix = None\n",
    "        maxnorm = -np.inf\n",
    "        for i in range(10000):\n",
    "            matrix = np.random.rand(X.shape[0], X.shape[1])\n",
    "            for m in range(matrix.shape[1]):\n",
    "                matrix[:,m] = (c[m] / np.linalg.norm(matrix[:,m], 2)) * matrix[:,m]\n",
    "            fnorm = np.linalg.norm(matrix, 2) #The criteria I'm using here is the two-norm\n",
    "            if fnorm > maxnorm:\n",
    "                maxnorm = fnorm\n",
    "                maxmatrix = matrix\n",
    "        #print(maxmatrix, maxnorm)\n",
    "        #print(np.linalg.norm(X, 2))\n",
    "        X = X + maxmatrix #We add the permuted matrix to our design matrix\n",
    "        #print(np.linalg.norm(X,2))\n",
    "    else: \n",
    "        raise ValueError('Please input one of of \"Dropout\", \"NoiseAddition\", or \"Robust\"')\n",
    "\n"
   ]
  },
  {
   "cell_type": "code",
   "execution_count": 24,
   "id": "b601f4d6",
   "metadata": {
    "scrolled": true
   },
   "outputs": [
    {
     "name": "stdout",
     "output_type": "stream",
     "text": [
      "[[7.12551497e-03 1.13427964e-01 7.39207125e-03 1.43744299e-02]\n",
      " [1.75473326e-01 5.31664536e-03 3.23546289e-02 5.57539481e-02]\n",
      " [1.89467565e-01 1.94843397e-01 1.25883542e-01 1.97285651e-01]\n",
      " [2.00948194e-01 2.15572600e-01 8.63625500e-02 1.24398802e-01]\n",
      " [2.50763481e-01 2.20964802e-01 4.76317666e-02 9.13935405e-02]\n",
      " [2.32529461e-01 1.52743246e-01 8.04447065e-02 1.37429811e-01]\n",
      " [2.55910178e-01 2.37575200e-01 3.29946526e-02 1.94133067e-01]\n",
      " [1.57049224e-01 2.22069843e-01 1.32681283e-01 1.01567575e-01]\n",
      " [1.01958745e-01 2.41827677e-02 7.89866953e-02 1.77225729e-01]\n",
      " [1.19339999e-01 1.27001391e-01 1.12908779e-01 1.23090526e-01]\n",
      " [9.49961877e-02 1.66959942e-01 1.05269635e-01 6.62043927e-02]\n",
      " [1.05643821e-01 1.08000110e-01 6.27223129e-02 1.93561782e-01]\n",
      " [7.32899934e-02 8.00431770e-02 3.36562958e-02 9.24492185e-03]\n",
      " [6.55545659e-02 6.32533859e-02 1.94484776e-02 1.98991893e-01]\n",
      " [1.81075963e-01 8.56480470e-02 1.29836454e-01 1.83827549e-01]\n",
      " [1.55563341e-01 7.06164327e-02 1.31038601e-01 1.06035197e-01]\n",
      " [1.90301637e-01 7.90648247e-02 9.87063885e-02 1.55758513e-01]\n",
      " [1.70499374e-01 2.57546055e-01 5.67448743e-02 3.15953458e-02]\n",
      " [1.09273355e-01 1.38671026e-01 5.05206544e-02 2.41178680e-02]\n",
      " [2.02355769e-01 2.72689202e-01 1.06320646e-01 1.76329663e-01]\n",
      " [9.87193766e-02 2.49120101e-01 7.48322266e-02 3.88198861e-02]\n",
      " [6.12470103e-02 5.86998983e-02 7.84280226e-02 1.60500852e-02]\n",
      " [6.66386905e-02 1.70961622e-01 9.87360933e-02 9.06203561e-02]\n",
      " [1.11622505e-01 4.64819636e-02 1.30352313e-01 1.03132959e-01]\n",
      " [1.34473993e-01 7.02749404e-02 6.30431847e-02 1.06135264e-01]\n",
      " [4.83159263e-02 4.39926339e-02 6.61591112e-02 1.28158018e-01]\n",
      " [1.12797571e-01 4.13902383e-02 3.51222254e-03 8.75190799e-02]\n",
      " [1.86758012e-01 1.71936576e-01 1.04657667e-01 2.02720847e-01]\n",
      " [2.43914515e-01 2.21597100e-01 9.21741565e-02 1.42803272e-01]\n",
      " [1.86866872e-01 2.61351149e-01 9.18745486e-02 7.21284712e-02]\n",
      " [2.00261247e-01 2.38300149e-01 2.52956077e-02 1.15040819e-01]\n",
      " [2.06191111e-01 1.59248346e-01 1.14081232e-01 1.98628533e-01]\n",
      " [2.45330410e-01 6.04770177e-02 2.22768477e-02 1.47666941e-01]\n",
      " [8.31469202e-02 2.09638727e-01 6.36129068e-03 7.30503547e-02]\n",
      " [2.61062153e-01 2.10084696e-01 1.70577170e-02 1.10918930e-01]\n",
      " [1.54902903e-02 2.28572402e-01 4.20636675e-02 8.94467065e-02]\n",
      " [2.14532585e-01 2.70455381e-01 1.19195788e-01 1.75997701e-01]\n",
      " [2.89998308e-02 1.33338001e-01 2.39462041e-02 1.89529739e-01]\n",
      " [1.94834805e-01 1.63431433e-01 1.13869021e-01 1.64503980e-01]\n",
      " [1.59368587e-01 1.90396059e-01 8.84354138e-03 1.08305865e-01]\n",
      " [2.72922073e-01 2.20819777e-01 6.70485384e-02 1.93691023e-01]\n",
      " [1.57489966e-01 1.21930056e-01 2.66821868e-02 1.17345811e-01]\n",
      " [2.69349034e-01 2.09133047e-01 1.26651879e-01 5.34033462e-02]\n",
      " [2.43505256e-01 3.90494828e-02 9.41133328e-02 1.37964144e-01]\n",
      " [9.74392637e-02 1.60498624e-01 2.74523529e-02 1.73776810e-01]\n",
      " [1.19067541e-01 1.48997502e-01 5.04891780e-02 1.77824873e-01]\n",
      " [1.61045273e-01 4.87012606e-02 3.67963107e-02 4.23570325e-02]\n",
      " [8.17581399e-02 6.27631105e-02 8.02424543e-02 5.97252460e-03]\n",
      " [9.26492891e-02 1.23579566e-01 1.13829030e-01 6.97759559e-03]\n",
      " [8.69146711e-02 1.70277918e-01 1.22174345e-01 1.05101993e-01]\n",
      " [2.45196618e-01 1.75615349e-01 1.18876660e-01 1.69798704e-01]\n",
      " [1.79683979e-01 1.64688721e-01 1.32738920e-01 5.73267250e-02]\n",
      " [1.04391677e-01 3.53341690e-02 1.25282025e-01 3.13853294e-02]\n",
      " [1.41258870e-01 2.66826501e-01 1.24084290e-01 1.77397066e-01]\n",
      " [1.49324588e-01 1.30723750e-01 3.81433838e-02 7.54932031e-02]\n",
      " [8.48898109e-02 6.86890944e-03 2.45922579e-02 1.19944074e-01]\n",
      " [2.57363378e-01 1.04869952e-01 6.67759312e-02 1.97008215e-01]\n",
      " [1.42186600e-02 2.96957726e-01 3.58313732e-02 1.14904282e-01]\n",
      " [7.25858442e-02 2.44269118e-03 3.50764227e-02 1.64649119e-01]\n",
      " [8.99530180e-02 2.06797143e-01 1.03312743e-01 1.54979217e-02]\n",
      " [3.28151999e-02 8.51582695e-02 1.17492762e-01 1.74487786e-01]\n",
      " [1.12958804e-01 1.19898853e-01 7.30115583e-02 8.65804562e-02]\n",
      " [5.84751701e-02 1.00522132e-01 7.52833755e-02 9.36866302e-02]\n",
      " [7.74386039e-02 1.36236632e-01 1.35566962e-01 2.99829413e-02]\n",
      " [2.17041088e-01 1.44648272e-01 1.17556408e-01 1.39067498e-01]\n",
      " [1.49519665e-01 3.58355467e-02 9.46441705e-02 7.21636248e-02]\n",
      " [2.20209706e-01 2.05898161e-01 1.02679913e-01 7.42503241e-02]\n",
      " [2.59681983e-02 1.96182206e-01 4.52454135e-02 1.06163264e-02]\n",
      " [1.05837302e-01 1.31089618e-01 7.04478462e-02 1.32612830e-01]\n",
      " [2.04973592e-01 2.73459647e-01 8.44932970e-02 1.99798313e-01]\n",
      " [1.49574464e-01 1.64698283e-01 1.09157784e-01 6.97507667e-02]\n",
      " [2.23242182e-01 2.91287782e-01 8.92070316e-02 1.75607028e-01]\n",
      " [1.47176831e-01 2.36557530e-01 4.10949902e-02 5.64399394e-02]\n",
      " [1.20420733e-01 2.75677031e-01 1.17099676e-01 1.60306534e-01]\n",
      " [2.39400668e-01 2.60077072e-01 2.26720921e-02 6.25691545e-02]\n",
      " [2.60154054e-01 1.75699413e-01 1.35674730e-01 1.27917004e-01]\n",
      " [2.15910548e-01 1.17016234e-01 4.90975107e-02 1.94741489e-01]\n",
      " [2.64115812e-01 2.71724461e-01 8.87578285e-02 7.96537057e-02]\n",
      " [1.47948569e-01 1.91792426e-01 4.90290517e-03 1.34488415e-01]\n",
      " [1.24710333e-01 1.80777039e-02 5.75954108e-02 7.45828958e-02]\n",
      " [2.43749823e-01 1.75932257e-01 6.57210213e-02 1.88472244e-01]\n",
      " [1.43096977e-01 8.23967336e-02 5.76077175e-03 1.91573725e-02]\n",
      " [9.24377309e-02 6.86177093e-03 8.72919661e-02 5.30278065e-02]\n",
      " [2.10665701e-01 2.97086147e-01 1.27284857e-01 1.15247999e-01]\n",
      " [2.75177891e-01 1.21210505e-02 8.57070696e-02 1.02126381e-01]\n",
      " [2.24949669e-01 1.70582420e-01 6.55852535e-02 1.35922852e-01]\n",
      " [1.04259208e-01 2.85003918e-01 4.19077559e-02 5.12355961e-02]\n",
      " [1.82484094e-01 1.45441897e-01 7.96764336e-03 3.95897326e-02]\n",
      " [4.48761858e-02 1.38447591e-02 8.57218449e-02 1.43321224e-01]\n",
      " [2.49869466e-01 2.36430779e-01 1.29954193e-01 1.87785877e-01]\n",
      " [8.81463605e-02 1.11112713e-01 1.35803301e-01 1.90085349e-01]\n",
      " [9.83785074e-02 8.24822135e-02 1.26527443e-01 6.76787267e-02]\n",
      " [2.60274961e-01 1.57025077e-02 8.65178910e-03 3.42264894e-02]\n",
      " [2.50238355e-01 3.28403602e-02 1.76685783e-02 1.55854340e-01]\n",
      " [2.09111996e-01 1.10890714e-01 4.69801699e-02 1.69137756e-01]\n",
      " [8.99071669e-02 1.79870918e-01 2.71292256e-02 1.33742716e-01]\n",
      " [8.18559465e-02 1.27832520e-01 7.10240742e-02 7.27136202e-02]\n",
      " [2.36397368e-01 1.96985882e-01 1.25063242e-01 3.01839943e-02]\n",
      " [1.67209135e-01 2.29173945e-02 1.14681510e-01 5.36822942e-02]\n",
      " [2.18755410e-01 2.00154861e-02 8.61571825e-02 1.80346855e-01]\n",
      " [1.11795351e-01 7.95992450e-02 1.22189263e-01 1.01042353e-01]\n",
      " [2.34844275e-01 1.29351016e-01 1.08514254e-01 1.15970653e-01]\n",
      " [2.42410601e-02 1.87090918e-01 8.50862624e-02 1.77450294e-01]\n",
      " [2.01331044e-01 1.81366236e-02 4.05276694e-02 2.06522692e-03]\n",
      " [2.27847409e-01 2.04740797e-01 1.09936204e-01 1.35064057e-01]\n",
      " [2.61423474e-01 2.47856478e-01 1.14710052e-01 1.34087903e-01]\n",
      " [4.45794119e-02 3.46836109e-02 6.97094303e-02 1.45692941e-01]\n",
      " [4.06417163e-03 3.91081807e-02 6.70077036e-02 6.97308032e-02]\n",
      " [2.50601093e-01 1.52462354e-01 4.37608797e-02 1.32375845e-02]\n",
      " [1.30740059e-01 1.24365374e-01 1.00291080e-01 1.10049052e-01]\n",
      " [1.26124622e-01 1.07424818e-01 9.78129855e-02 8.62682015e-02]\n",
      " [1.59955536e-01 1.62355280e-01 7.70187845e-02 1.80864522e-01]\n",
      " [1.13575215e-01 1.23862060e-01 3.77434506e-02 2.26699160e-02]\n",
      " [1.40038772e-01 8.48436388e-02 5.20472268e-02 1.72234347e-01]\n",
      " [1.32052577e-01 1.98046228e-01 1.14419685e-01 1.32938124e-01]\n",
      " [1.69304607e-01 4.30154945e-02 1.13272973e-02 1.02642945e-02]\n",
      " [9.97999406e-02 1.33106095e-01 2.93858279e-02 1.36360833e-01]\n",
      " [3.15678690e-02 1.81679169e-01 1.15420775e-01 1.53983242e-01]\n",
      " [7.40667785e-02 1.12979696e-02 9.89254860e-02 1.85504706e-01]\n",
      " [3.72406909e-02 1.59945590e-02 3.27123221e-02 6.70186584e-03]\n",
      " [1.33395322e-02 8.74808042e-03 1.69257241e-02 1.14682144e-01]\n",
      " [2.18694860e-01 2.16191531e-01 1.05898998e-01 1.35550417e-01]\n",
      " [8.56685701e-02 5.97692309e-02 1.19544423e-01 1.06229966e-01]\n",
      " [2.28932929e-01 2.39488086e-01 3.29375005e-02 1.00066101e-01]\n",
      " [1.23985296e-01 1.21111317e-01 6.39095986e-02 4.59500625e-02]\n",
      " [1.44559844e-01 2.81255151e-01 8.49358671e-03 8.96154755e-02]\n",
      " [2.29647426e-01 2.35882480e-01 4.05473938e-02 1.26652222e-01]\n",
      " [8.73039388e-02 1.83103005e-01 3.52589623e-02 1.83111939e-01]\n",
      " [1.03388730e-01 2.31107570e-02 3.97540315e-02 6.27466968e-02]\n",
      " [1.66968030e-01 7.52312284e-02 6.90909129e-02 2.29481779e-02]\n",
      " [1.95919343e-01 7.70219758e-03 1.34155176e-01 1.15334713e-01]\n",
      " [1.61301523e-01 1.96830538e-01 1.33728649e-01 8.89581521e-02]\n",
      " [1.84311649e-01 2.66094118e-01 6.95973743e-03 9.18471544e-02]\n",
      " [3.93281128e-02 5.07556079e-02 1.44953631e-02 4.25199586e-02]\n",
      " [1.47112090e-01 2.74046529e-01 1.02587838e-01 3.32684162e-02]\n",
      " [2.16164929e-01 1.72572614e-01 4.36511276e-02 8.64840555e-02]\n",
      " [2.22584592e-01 1.02730129e-02 1.24682274e-02 1.59568979e-01]\n",
      " [7.94029953e-02 2.33402166e-01 2.97610969e-02 1.23479178e-01]\n",
      " [1.38236951e-02 1.59133046e-01 9.15409785e-02 1.09690171e-01]\n",
      " [1.44663458e-01 9.66672932e-02 5.48381996e-02 1.33001789e-01]\n",
      " [8.01321004e-02 9.44721213e-04 3.30794497e-02 1.30041202e-01]\n",
      " [2.31507232e-02 1.31932742e-01 3.01526953e-02 1.44373217e-01]\n",
      " [1.21964102e-01 1.67128459e-01 2.02208872e-02 5.64923039e-02]\n",
      " [1.62955392e-01 2.51441979e-02 2.36898497e-02 1.40733721e-01]\n",
      " [2.00858701e-01 1.30111446e-01 7.35260361e-03 9.81122975e-02]\n",
      " [7.42197487e-02 2.84422891e-01 1.16855441e-01 1.72042689e-01]\n",
      " [8.30720130e-02 1.11559588e-01 1.05568074e-02 4.70202069e-02]\n",
      " [2.34679798e-01 9.07280283e-02 4.00723010e-02 2.26480534e-04]\n",
      " [8.16677538e-02 8.99897775e-02 1.23784835e-01 1.62482482e-01]\n",
      " [1.04005791e-01 2.66906839e-01 5.38634523e-02 1.12439395e-01]] 3.123393812919435\n",
      "95.95991387196453\n",
      "98.57347659353684\n"
     ]
    }
   ],
   "source": [
    "# matrices to play around with and feed into function \n",
    "# NO train test split here, just full data\n",
    "X, y = datasets.load_iris(return_X_y=True)\n",
    "\n",
    "# test here, maybe start testing with Ridge()\n",
    "tune_bb(Ridge(),\n",
    "        X,\n",
    "        y,\n",
    "        regularization=\"Robust\",\n",
    "        c = [2,2,1,1.5],\n",
    "        criterion=\"MAE\")"
   ]
  },
  {
   "cell_type": "markdown",
   "id": "2e5dbdfd",
   "metadata": {},
   "source": [
    "### Scratchwork below"
   ]
  },
  {
   "cell_type": "code",
   "execution_count": 15,
   "id": "0da3ec7e",
   "metadata": {},
   "outputs": [],
   "source": [
    "# maybe something like this if they all follow the .fit() syntax? \n",
    "def model_test(model,X,y):\n",
    "    return model.fit(X,y)"
   ]
  },
  {
   "cell_type": "code",
   "execution_count": null,
   "id": "6d3c9ac0",
   "metadata": {},
   "outputs": [],
   "source": [
    "# this passes the model in ?\n",
    "model_test(LinearRegression(), X, y).coef_"
   ]
  },
  {
   "cell_type": "code",
   "execution_count": 18,
   "id": "6ae78d5c",
   "metadata": {},
   "outputs": [
    {
     "data": {
      "text/plain": [
       "array([[ 0.67567568, -0.05405405, -0.32432432]])"
      ]
     },
     "execution_count": 18,
     "metadata": {},
     "output_type": "execute_result"
    }
   ],
   "source": [
    "model_test(Ridge(), X, y).coef_ # niceeeeeeeeee"
   ]
  },
  {
   "cell_type": "code",
   "execution_count": 20,
   "id": "417e5122",
   "metadata": {
    "scrolled": true
   },
   "outputs": [
    {
     "data": {
      "text/plain": [
       "array([ 0.57894737, -0.        , -0.        ])"
      ]
     },
     "execution_count": 20,
     "metadata": {},
     "output_type": "execute_result"
    }
   ],
   "source": [
    "model_test(Lasso(), X, y).coef_"
   ]
  },
  {
   "cell_type": "code",
   "execution_count": null,
   "id": "2b05fbc8",
   "metadata": {},
   "outputs": [],
   "source": [
    "# ridge tuning parameter, for example\n",
    "# expand this later\n",
    "parameter_set = np.linspace(0,10,11) # 0 to 10\n",
    "\n",
    "cv_score_set = []\n",
    "# begin cross validation\n",
    "for alpha in parameter_set:\n",
    "\n",
    "    algo.alpha = alpha\n",
    "    cv = cross_val_score(algo, \n",
    "                         X, \n",
    "                         y, \n",
    "                         scoring=criterion,\n",
    "                         cv=K)\n",
    "\n",
    "    # cv returns negative values, need abs()\n",
    "    cv_score = np.mean(np.absolute(cv))\n",
    "    cv_score_set.append(cv_score)\n",
    "\n",
    "minimum_score = cv_score_set.index(np.min(cv_score_set))\n",
    "alpha_value = parameter_set[minimum_score]"
   ]
  },
  {
   "cell_type": "code",
   "execution_count": 16,
   "id": "41174f11",
   "metadata": {
    "scrolled": true
   },
   "outputs": [
    {
     "data": {
      "text/plain": [
       "(150, 4)"
      ]
     },
     "execution_count": 16,
     "metadata": {},
     "output_type": "execute_result"
    }
   ],
   "source": [
    "X_iris, y_iris = datasets.load_iris(return_X_y=True)"
   ]
  },
  {
   "cell_type": "markdown",
   "id": "39da40a3",
   "metadata": {},
   "source": [
    "### Resources and Notes: \n",
    "\n",
    "1. https://www.statology.org/k-fold-cross-validation-in-python/"
   ]
  },
  {
   "cell_type": "code",
   "execution_count": 67,
   "id": "37f97403",
   "metadata": {},
   "outputs": [],
   "source": [
    "# use this to view doc string\n",
    "?tune_bb"
   ]
  },
  {
   "cell_type": "code",
   "execution_count": null,
   "id": "cf4dae31",
   "metadata": {},
   "outputs": [],
   "source": []
  }
 ],
 "metadata": {
  "kernelspec": {
   "display_name": "Python 3 (ipykernel)",
   "language": "python",
   "name": "python3"
  },
  "language_info": {
   "codemirror_mode": {
    "name": "ipython",
    "version": 3
   },
   "file_extension": ".py",
   "mimetype": "text/x-python",
   "name": "python",
   "nbconvert_exporter": "python",
   "pygments_lexer": "ipython3",
   "version": "3.9.12"
  }
 },
 "nbformat": 4,
 "nbformat_minor": 5
}
