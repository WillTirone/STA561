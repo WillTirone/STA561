{
 "cells": [
  {
   "cell_type": "code",
   "execution_count": 7,
   "id": "add6bf93",
   "metadata": {},
   "outputs": [
    {
     "ename": "NameError",
     "evalue": "name 'function' is not defined",
     "output_type": "error",
     "traceback": [
      "\u001b[0;31m---------------------------------------------------------------------------\u001b[0m",
      "\u001b[0;31mNameError\u001b[0m                                 Traceback (most recent call last)",
      "\u001b[0;32m/tmp/ipykernel_3898/2463055700.py\u001b[0m in \u001b[0;36m<module>\u001b[0;34m\u001b[0m\n\u001b[0;32m----> 1\u001b[0;31m def tune_bb(algo: function,\n\u001b[0m\u001b[1;32m      2\u001b[0m            \u001b[0mtrain\u001b[0m\u001b[0;34m,\u001b[0m\u001b[0;34m\u001b[0m\u001b[0;34m\u001b[0m\u001b[0m\n\u001b[1;32m      3\u001b[0m            \u001b[0mregularization\u001b[0m\u001b[0;34m:\u001b[0m \u001b[0mstr\u001b[0m\u001b[0;34m,\u001b[0m\u001b[0;34m\u001b[0m\u001b[0;34m\u001b[0m\u001b[0m\n\u001b[1;32m      4\u001b[0m            \u001b[0mM\u001b[0m\u001b[0;34m:\u001b[0m \u001b[0mint\u001b[0m\u001b[0;34m,\u001b[0m\u001b[0;34m\u001b[0m\u001b[0;34m\u001b[0m\u001b[0m\n\u001b[1;32m      5\u001b[0m            \u001b[0mc\u001b[0m\u001b[0;34m,\u001b[0m\u001b[0;34m\u001b[0m\u001b[0;34m\u001b[0m\u001b[0m\n",
      "\u001b[0;31mNameError\u001b[0m: name 'function' is not defined"
     ]
    }
   ],
   "source": [
    "def tune_bb(algo, train, regularization, M, c, K, criterion):\n",
    "    \n",
    "    \"\"\"function to automatically tune blackbox regression model\n",
    "    \n",
    "    Parameters:\n",
    "    -----------\n",
    "    \n",
    "    algo : callable\n",
    "        a learning algorithm that takes as input a matrix X in R nxp\n",
    "        and a vector of responses Y in Rn and returns a function that\n",
    "        maps inputs to outputs.\n",
    "    train : \n",
    "        training data X in R nxp and Y in Rn\n",
    "    regularization : str\n",
    "        regularization method, can be any of \"Dropout\",\n",
    "        \"NoiseAddition\", or \"Robust\"\n",
    "    M : int \n",
    "        A positive integer indicating the number of Monte Carlo\n",
    "        replicates to be used if the method specified is Dropout or \n",
    "        NoiseAddition\n",
    "    c : \n",
    "        A vector of column bounds to be used if method specified is \"Robust\"\n",
    "    K : int \n",
    "        A positive integer indicating the number of CV-folds to be used to \n",
    "        tune the amount of regularization, e.g., K = 5 indicates five-fold CV\n",
    "    criterion : str\n",
    "        A criterion to be used to evaluate the method that belongs to the set \n",
    "        {MSE, MAD} where MSE encodes mean square error and MAD encodes mean\n",
    "        absolute deviation.\n",
    "    \n",
    "    Returns:\n",
    "    -----------\n",
    "    \n",
    "    Example:\n",
    "    -----------\n",
    "    >>> tune_bb()\n",
    "    >>> \n",
    "    \n",
    "    \"\"\"\n",
    "\n",
    "    pass"
   ]
  }
 ],
 "metadata": {
  "kernelspec": {
   "display_name": "Python 3 (ipykernel)",
   "language": "python",
   "name": "python3"
  },
  "language_info": {
   "codemirror_mode": {
    "name": "ipython",
    "version": 3
   },
   "file_extension": ".py",
   "mimetype": "text/x-python",
   "name": "python",
   "nbconvert_exporter": "python",
   "pygments_lexer": "ipython3",
   "version": "3.9.7"
  }
 },
 "nbformat": 4,
 "nbformat_minor": 5
}
