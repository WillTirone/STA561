{
 "cells": [
  {
   "cell_type": "code",
   "execution_count": 12,
   "id": "30174497",
   "metadata": {},
   "outputs": [],
   "source": [
    "import numpy as np \n",
    "import math\n",
    "from sklearn.linear_model import LinearRegression, Ridge, Lasso\n",
    "from sklearn.model_selection import train_test_split, KFold, cross_val_score\n",
    "from sklearn import datasets\n",
    "import scipy.stats as st"
   ]
  },
  {
   "cell_type": "code",
   "execution_count": 28,
   "id": "add6bf93",
   "metadata": {
    "scrolled": true
   },
   "outputs": [],
   "source": [
    "def tune_bb(algo, X, y, \n",
    "            regularization=\"Dropout\", M=10, \n",
    "            c=None, K=5, criterion=\"MSE\"):\n",
    "\n",
    "    \"\"\"function to automatically tune blackbox regression model\n",
    "    \n",
    "    Parameters:\n",
    "    -----------\n",
    "\n",
    "    algo : callable\n",
    "        A learning algorithm that takes as input a matrix X in R nxp\n",
    "        and a vector of responses Y in Rn and returns a function that\n",
    "        maps inputs to outputs. Must have methods like .fit() and .predict()\n",
    "    X : array-like of shape (n,p)\n",
    "        training data X in R nxp\n",
    "    y : array-like of shape (n,)\n",
    "        training labels, Y, in Rn\n",
    "    regularization : str, default=\"Dropout\"\n",
    "        regularization method, can be any of \"Dropout\",\n",
    "        \"NoiseAddition\", or \"Robust\"\n",
    "    M : int, default=\n",
    "        A positive integer indicating the number of Monte Carlo\n",
    "        replicates to be used if the method specified is Dropout or \n",
    "        NoiseAddition\n",
    "    c : default=None\n",
    "        A vector of column bounds to be used if method specified is \"Robust\"\n",
    "    K : int, default=5\n",
    "        A positive integer indicating the number of CV-folds to be used to \n",
    "        tune the amount of regularization, e.g., K = 5 indicates five-fold CV\n",
    "    criterion : str, default=\"MSE\"\n",
    "        A criterion to be used to evaluate the method that belongs to the set \n",
    "        {MSE, MAD} where MSE encodes mean square error and MAD encodes mean\n",
    "        absolute deviation.\n",
    "\n",
    "    Returns:\n",
    "    -----------\n",
    "    tuned_mode : callable \n",
    "        A tuned predictive model that optimizes the specific criterion using \n",
    "        the specified method\n",
    "\n",
    "    Example:\n",
    "    -----------\n",
    "    >>> tune_bb()\n",
    "    >>> \n",
    "    \"\"\"\n",
    "    \n",
    "    # statements here to ensure model has the methods we need to tune it\n",
    "    assert hasattr(algo, \"fit\"), \"model object must have .fit() method\"\n",
    "    assert hasattr(algo, \"predict\"), \"model object must have .predict() method\"\n",
    "\n",
    "    if criterion == \"MSE\":\n",
    "        criterion = \"neg_mean_squared_error\"\n",
    "    elif criterion == \"MAE\":\n",
    "        criterion = \"neg_mean_absolute_error\"\n",
    "    else:\n",
    "        raise ValueError(\"Please input either MAE or MSE for criterion.\")\n",
    "    \n",
    "    if regularization == \"Dropout\":\n",
    "        # dropout notes: topic 1 p. 30 \n",
    "        # draw Z matrix\n",
    "        Z = np.random.binomial(1,0.5,size=X.shape)\n",
    "        dropout_matrix = Z * X \n",
    "    elif regularization == \"NoiseAddition\":\n",
    "        print('do something')\n",
    "    elif regularization == \"Robust\":\n",
    "        #Assertion: we don't actually have any reasonable bounds to argue for robust regression here\n",
    "        #We could take a sample of many matrix M and then choose 1 based on a criteria to fit our regression\n",
    "        #If we do this iteratively with changing our c bounds, we can theoretically narrow down our bounds wrt the MSE/MAE\n",
    "        tol = False #Are we in our tolerance range\n",
    "        toler = 0.001\n",
    "        wts = [x/2 for x in c] #Initial weights are going to be c/2\n",
    "        oerror = np.inf\n",
    "        merror = np.inf\n",
    "        itera = 0\n",
    "        while not tol:\n",
    "            print(itera, merror, wts)\n",
    "            #Create a bunch of matrices and choose the best by some score\n",
    "            maxmatrix = None\n",
    "            maxnorm = -np.inf\n",
    "            for i in range(1000):\n",
    "                matrix = np.random.rand(X.shape[0], X.shape[1])\n",
    "                for m in range(matrix.shape[1]):\n",
    "                    matrix[:,m] = (wts[m] / np.linalg.norm(matrix[:,m], 2)) * matrix[:,m]\n",
    "                fnorm = np.linalg.norm(matrix, 2) #The criteria I'm using here is the two-norm\n",
    "                if fnorm > maxnorm:\n",
    "                    maxnorm = fnorm\n",
    "                    maxmatrix = matrix\n",
    "            new_X = X + maxmatrix #We add the permuted matrix to our design matrix\n",
    "            \n",
    "            #kfold cross validation\n",
    "            errors = np.abs(cross_val_score(algo, new_X, y, cv=K, scoring=criterion))\n",
    "            merror = np.mean(errors)\n",
    "            if abs(oerror - merror) > toler:\n",
    "                print(abs(oerror - merror))\n",
    "                oerror = merror #Save the current error for the next iteration\n",
    "                #Set our new weights for the next iteration\n",
    "                wts = np.minimum(wts + (np.random.normal(size = len(wts)) * math.exp(-itera)), c) \n",
    "                itera += 1\n",
    "            else:\n",
    "                tol = True\n",
    "        \n",
    "        #Once we have our best c bounds, let's use them exactly to construct the best model\n",
    "        maxmatrix = None\n",
    "        maxnorm = -np.inf\n",
    "        for i in range(10000):\n",
    "            matrix = np.random.rand(X.shape[0], X.shape[1])\n",
    "            for m in range(matrix.shape[1]):\n",
    "                matrix[:,m] = (wts[m] / np.linalg.norm(matrix[:,m], 2)) * matrix[:,m]\n",
    "            fnorm = np.linalg.norm(matrix, 2) #The criteria I'm using here is the two-norm\n",
    "            if fnorm > maxnorm:\n",
    "                maxnorm = fnorm\n",
    "                maxmatrix = matrix\n",
    "        new_X = X + maxmatrix #We add the permuted matrix to our design matrix\n",
    "        \n",
    "        model = algo\n",
    "        tuned_mode = model.fit(new_X, y)\n",
    "        #print(tuned_mode.coef_)\n",
    "        return tuned_mode\n",
    "    \n",
    "    else: \n",
    "        raise ValueError('Please input one of of \"Dropout\", \"NoiseAddition\", or \"Robust\"')\n",
    "\n"
   ]
  },
  {
   "cell_type": "code",
   "execution_count": 29,
   "id": "b601f4d6",
   "metadata": {
    "scrolled": true
   },
   "outputs": [
    {
     "name": "stdout",
     "output_type": "stream",
     "text": [
      "0 inf [1.0, 1.0, 0.5, 0.75]\n",
      "inf\n",
      "1 0.209957020924517 [ 0.98875363  0.83236253 -0.78772712  0.8983743 ]\n",
      "[-0.11150889 -0.04352956  0.22879664  0.60848334]\n",
      "[-0.11291719 -0.03549502  0.25856824  0.53864292]\n"
     ]
    },
    {
     "data": {
      "text/html": [
       "<style>#sk-container-id-6 {color: black;background-color: white;}#sk-container-id-6 pre{padding: 0;}#sk-container-id-6 div.sk-toggleable {background-color: white;}#sk-container-id-6 label.sk-toggleable__label {cursor: pointer;display: block;width: 100%;margin-bottom: 0;padding: 0.3em;box-sizing: border-box;text-align: center;}#sk-container-id-6 label.sk-toggleable__label-arrow:before {content: \"▸\";float: left;margin-right: 0.25em;color: #696969;}#sk-container-id-6 label.sk-toggleable__label-arrow:hover:before {color: black;}#sk-container-id-6 div.sk-estimator:hover label.sk-toggleable__label-arrow:before {color: black;}#sk-container-id-6 div.sk-toggleable__content {max-height: 0;max-width: 0;overflow: hidden;text-align: left;background-color: #f0f8ff;}#sk-container-id-6 div.sk-toggleable__content pre {margin: 0.2em;color: black;border-radius: 0.25em;background-color: #f0f8ff;}#sk-container-id-6 input.sk-toggleable__control:checked~div.sk-toggleable__content {max-height: 200px;max-width: 100%;overflow: auto;}#sk-container-id-6 input.sk-toggleable__control:checked~label.sk-toggleable__label-arrow:before {content: \"▾\";}#sk-container-id-6 div.sk-estimator input.sk-toggleable__control:checked~label.sk-toggleable__label {background-color: #d4ebff;}#sk-container-id-6 div.sk-label input.sk-toggleable__control:checked~label.sk-toggleable__label {background-color: #d4ebff;}#sk-container-id-6 input.sk-hidden--visually {border: 0;clip: rect(1px 1px 1px 1px);clip: rect(1px, 1px, 1px, 1px);height: 1px;margin: -1px;overflow: hidden;padding: 0;position: absolute;width: 1px;}#sk-container-id-6 div.sk-estimator {font-family: monospace;background-color: #f0f8ff;border: 1px dotted black;border-radius: 0.25em;box-sizing: border-box;margin-bottom: 0.5em;}#sk-container-id-6 div.sk-estimator:hover {background-color: #d4ebff;}#sk-container-id-6 div.sk-parallel-item::after {content: \"\";width: 100%;border-bottom: 1px solid gray;flex-grow: 1;}#sk-container-id-6 div.sk-label:hover label.sk-toggleable__label {background-color: #d4ebff;}#sk-container-id-6 div.sk-serial::before {content: \"\";position: absolute;border-left: 1px solid gray;box-sizing: border-box;top: 0;bottom: 0;left: 50%;z-index: 0;}#sk-container-id-6 div.sk-serial {display: flex;flex-direction: column;align-items: center;background-color: white;padding-right: 0.2em;padding-left: 0.2em;position: relative;}#sk-container-id-6 div.sk-item {position: relative;z-index: 1;}#sk-container-id-6 div.sk-parallel {display: flex;align-items: stretch;justify-content: center;background-color: white;position: relative;}#sk-container-id-6 div.sk-item::before, #sk-container-id-6 div.sk-parallel-item::before {content: \"\";position: absolute;border-left: 1px solid gray;box-sizing: border-box;top: 0;bottom: 0;left: 50%;z-index: -1;}#sk-container-id-6 div.sk-parallel-item {display: flex;flex-direction: column;z-index: 1;position: relative;background-color: white;}#sk-container-id-6 div.sk-parallel-item:first-child::after {align-self: flex-end;width: 50%;}#sk-container-id-6 div.sk-parallel-item:last-child::after {align-self: flex-start;width: 50%;}#sk-container-id-6 div.sk-parallel-item:only-child::after {width: 0;}#sk-container-id-6 div.sk-dashed-wrapped {border: 1px dashed gray;margin: 0 0.4em 0.5em 0.4em;box-sizing: border-box;padding-bottom: 0.4em;background-color: white;}#sk-container-id-6 div.sk-label label {font-family: monospace;font-weight: bold;display: inline-block;line-height: 1.2em;}#sk-container-id-6 div.sk-label-container {text-align: center;}#sk-container-id-6 div.sk-container {/* jupyter's `normalize.less` sets `[hidden] { display: none; }` but bootstrap.min.css set `[hidden] { display: none !important; }` so we also need the `!important` here to be able to override the default hidden behavior on the sphinx rendered scikit-learn.org. See: https://github.com/scikit-learn/scikit-learn/issues/21755 */display: inline-block !important;position: relative;}#sk-container-id-6 div.sk-text-repr-fallback {display: none;}</style><div id=\"sk-container-id-6\" class=\"sk-top-container\"><div class=\"sk-text-repr-fallback\"><pre>Ridge()</pre><b>In a Jupyter environment, please rerun this cell to show the HTML representation or trust the notebook. <br />On GitHub, the HTML representation is unable to render, please try loading this page with nbviewer.org.</b></div><div class=\"sk-container\" hidden><div class=\"sk-item\"><div class=\"sk-estimator sk-toggleable\"><input class=\"sk-toggleable__control sk-hidden--visually\" id=\"sk-estimator-id-6\" type=\"checkbox\" checked><label for=\"sk-estimator-id-6\" class=\"sk-toggleable__label sk-toggleable__label-arrow\">Ridge</label><div class=\"sk-toggleable__content\"><pre>Ridge()</pre></div></div></div></div></div>"
      ],
      "text/plain": [
       "Ridge()"
      ]
     },
     "execution_count": 29,
     "metadata": {},
     "output_type": "execute_result"
    }
   ],
   "source": [
    "# matrices to play around with and feed into function \n",
    "# NO train test split here, just full data\n",
    "X, y = datasets.load_iris(return_X_y=True)\n",
    "\n",
    "# test here, maybe start testing with Ridge()\n",
    "tune_bb(Ridge(),\n",
    "        X,\n",
    "        y,\n",
    "        regularization=\"Robust\",\n",
    "        c = [2,2,1,1.5],\n",
    "        criterion=\"MAE\")"
   ]
  },
  {
   "cell_type": "markdown",
   "id": "2e5dbdfd",
   "metadata": {},
   "source": [
    "### Scratchwork below"
   ]
  },
  {
   "cell_type": "code",
   "execution_count": 21,
   "id": "0da3ec7e",
   "metadata": {},
   "outputs": [],
   "source": [
    "# maybe something like this if they all follow the .fit() syntax? \n",
    "def model_test(model,X,y):\n",
    "    return model.fit(X,y)"
   ]
  },
  {
   "cell_type": "code",
   "execution_count": 22,
   "id": "6d3c9ac0",
   "metadata": {},
   "outputs": [
    {
     "data": {
      "text/plain": [
       "array([-0.11190585, -0.04007949,  0.22864503,  0.60925205])"
      ]
     },
     "execution_count": 22,
     "metadata": {},
     "output_type": "execute_result"
    }
   ],
   "source": [
    "# this passes the model in ?\n",
    "model_test(LinearRegression(), X, y).coef_"
   ]
  },
  {
   "cell_type": "code",
   "execution_count": 23,
   "id": "6ae78d5c",
   "metadata": {},
   "outputs": [
    {
     "data": {
      "text/plain": [
       "array([-0.11346491, -0.03184254,  0.25936799,  0.53764103])"
      ]
     },
     "execution_count": 23,
     "metadata": {},
     "output_type": "execute_result"
    }
   ],
   "source": [
    "model_test(Ridge(), X, y).coef_ # niceeeeeeeeee"
   ]
  },
  {
   "cell_type": "code",
   "execution_count": 20,
   "id": "417e5122",
   "metadata": {
    "scrolled": true
   },
   "outputs": [
    {
     "data": {
      "text/plain": [
       "array([ 0.57894737, -0.        , -0.        ])"
      ]
     },
     "execution_count": 20,
     "metadata": {},
     "output_type": "execute_result"
    }
   ],
   "source": [
    "model_test(Lasso(), X, y).coef_"
   ]
  },
  {
   "cell_type": "code",
   "execution_count": null,
   "id": "2b05fbc8",
   "metadata": {},
   "outputs": [],
   "source": [
    "# ridge tuning parameter, for example\n",
    "# expand this later\n",
    "parameter_set = np.linspace(0,10,11) # 0 to 10\n",
    "\n",
    "cv_score_set = []\n",
    "# begin cross validation\n",
    "for alpha in parameter_set:\n",
    "\n",
    "    algo.alpha = alpha\n",
    "    cv = cross_val_score(algo, \n",
    "                         X, \n",
    "                         y, \n",
    "                         scoring=criterion,\n",
    "                         cv=K)\n",
    "\n",
    "    # cv returns negative values, need abs()\n",
    "    cv_score = np.mean(np.absolute(cv))\n",
    "    cv_score_set.append(cv_score)\n",
    "\n",
    "minimum_score = cv_score_set.index(np.min(cv_score_set))\n",
    "alpha_value = parameter_set[minimum_score]"
   ]
  },
  {
   "cell_type": "code",
   "execution_count": 16,
   "id": "41174f11",
   "metadata": {
    "scrolled": true
   },
   "outputs": [
    {
     "data": {
      "text/plain": [
       "(150, 4)"
      ]
     },
     "execution_count": 16,
     "metadata": {},
     "output_type": "execute_result"
    }
   ],
   "source": [
    "X_iris, y_iris = datasets.load_iris(return_X_y=True)"
   ]
  },
  {
   "cell_type": "markdown",
   "id": "39da40a3",
   "metadata": {},
   "source": [
    "### Resources and Notes: \n",
    "\n",
    "1. https://www.statology.org/k-fold-cross-validation-in-python/"
   ]
  },
  {
   "cell_type": "code",
   "execution_count": 67,
   "id": "37f97403",
   "metadata": {},
   "outputs": [],
   "source": [
    "# use this to view doc string\n",
    "?tune_bb"
   ]
  },
  {
   "cell_type": "code",
   "execution_count": null,
   "id": "cf4dae31",
   "metadata": {},
   "outputs": [],
   "source": []
  }
 ],
 "metadata": {
  "kernelspec": {
   "display_name": "Python 3 (ipykernel)",
   "language": "python",
   "name": "python3"
  },
  "language_info": {
   "codemirror_mode": {
    "name": "ipython",
    "version": 3
   },
   "file_extension": ".py",
   "mimetype": "text/x-python",
   "name": "python",
   "nbconvert_exporter": "python",
   "pygments_lexer": "ipython3",
   "version": "3.9.12"
  }
 },
 "nbformat": 4,
 "nbformat_minor": 5
}
