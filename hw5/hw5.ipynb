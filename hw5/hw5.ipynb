{
 "cells": [
  {
   "cell_type": "markdown",
   "id": "a22882a3-2af9-44ed-829d-d254864ed184",
   "metadata": {},
   "source": [
    "# STA 561 HW 5\n",
    "\n",
    "Authors  \n",
    " -  Alonso Guerrero Castaneda (UID: 1194613)  \n",
    " -  Eli Gnesin (UID: 1172961)  \n",
    " -  Tommy Misikoff (UID: 1166813)  \n",
    " -  Sanskriti Purohit (UID: 1179957)  \n",
    " -  Will Tirone (UID: 1130904)  \n",
    "\n",
    "TA: Rick Presman "
   ]
  },
  {
   "cell_type": "markdown",
   "id": "4a3a9f19",
   "metadata": {},
   "source": [
    "### Question 1"
   ]
  },
  {
   "cell_type": "markdown",
   "id": "05458358",
   "metadata": {},
   "source": [
    "$$\n",
    "\\begin{aligned}\n",
    "\\mathbb{E}||k^\\frac{-1}{2} \\Omega \\bf{x}||^2 &= k^{-1} \\mathbb{E} \\bigg| \\bigg| \\begin{bmatrix}\n",
    "           \\Omega_{1}^T \\bf{x} \\\\\n",
    "           \\vdots \\\\\n",
    "           \\Omega_{k}^T \\bf{x}\n",
    "         \\end{bmatrix}\n",
    "\\bigg| \\bigg|^2 \\\\\n",
    "&= k^{-1} \\mathbb{E} \\bigg[ \\bigg(\\Omega_{1,1} x_1 + \\dots + \\Omega_{1,k}x_p\\bigg)^2 + \\dots + \\bigg(\\Omega_{k,1} x_1 + \\dots + \\Omega_{k,p}x_p\\bigg)^2 \\bigg] \\\\\n",
    "&= k^{-1} \\mathbb{E} \\bigg[ [ x_1^2 \\Omega_{1,1}^2 + \\Omega_{1,1}\\Omega_{1,2}x_1x_2 + \\dots] + \\dots + [x_1^2 \\Omega_{k,1}^2 + \\dots] \\bigg] \\\\\n",
    "\\end{aligned}\n",
    "$$\n",
    "\n",
    "Now the non-squared terms will be 0, since $\\mathbb{E}(\\Omega_{i,j}) = 0$ and they are i.i.d. For example, $\\mathbb{E}(\\Omega_{1,1}\\Omega_{1,2}x_1x_2) = x_1x_2\\mathbb{E} (\\Omega_{1,1})\\mathbb{E}(\\Omega_{1,2}) = 0$\n",
    "\n",
    "$$\n",
    "\\begin{aligned}\n",
    "&= k^{-1}  \\bigg[ [x_1^2 \\mathbb{E}(\\Omega_{1,1}^2)  + \\dots + x_p^2\\mathbb{E}(\\Omega_{1,k}^2)] + \\dots + [x_1^2 \\mathbb{E}(\\Omega_{k,1}^2) + \\dots + x_p^2\\mathbb{E}(\\Omega_{k,p}^2)] \\bigg] \\\\ \n",
    "&= k^{-1} \\bigg[ [x_1^2  + \\dots + x_p^2] + \\dots + [x_1^2 + \\dots + x_p^2 ] \\bigg] \\ \\ \\ \\ \\ \\ \\ \\ \\ \\ \\text{second moment: } \\text{Var}(\\Omega_{i,j}) = E(\\Omega_{i,j}^2) - 0 = 1 \\\\ \n",
    "&= k^{-1} \\bigg[ || x ||^2 + \\dots + || x ||^2 \\bigg] \\\\ \n",
    "&= ||x||^2 \\\\\n",
    "\\end{aligned}\n",
    "$$\n",
    "\n",
    "Two facts: first moment = 0 and and variance = 1 "
   ]
  },
  {
   "cell_type": "markdown",
   "id": "ff7f981f",
   "metadata": {
    "tags": []
   },
   "source": [
    "### Question 2"
   ]
  },
  {
   "cell_type": "markdown",
   "id": "cbe1a404",
   "metadata": {},
   "source": [
    "\n",
    "\n",
    "$$\n",
    "\\begin{aligned}\n",
    "\\hat{\\beta}_n^\\Omega &= \\Omega^T \\text{argmin}_\\beta \\mathbb{P}_n (Y - (\\Omega\\bf{X})^T\\beta)^2\\\\\n",
    "&= \\Omega^T((\\mathbb{P}_n(\\Omega \\bf{X})(\\Omega \\bf{X})^T)^{-1} \\mathbb{P}_n(\\Omega \\bf{X})Y \\\\ \n",
    "&= \\Omega^T( \\Omega \\mathbb{P}_n \\bf{X} \\textbf{X}^T \\Omega^T)^{-1}  \\Omega \\mathbb{P}_n  {\\textbf X} Y\n",
    "\\end{aligned}\n",
    "$$\n",
    "\n",
    "Now set $\\Sigma = \\mathbb{P}_n \\bf{X} \\bf{X}^T$ and $\\Gamma = \\mathbb{P}_n  \\bf{X} Y$. If our data is very large, say 10 million rows, we can make a single pass through the data to compute these quantities, with the below pseudo code:\n",
    "\n",
    "```\n",
    "// initialize \n",
    "X = data // fix this? what do we do to represent the data? \n",
    "Y = target \n",
    "B = 1000 // batch size, adjust somehow?\n",
    "Sigma = 0\n",
    "Gamma = 0 \n",
    "data_range = length(X)\n",
    "\n",
    "// loop through and sum \n",
    "// not sure if my batching idea would work \n",
    "FOR i in 1 : [data_range / B]\n",
    "\n",
    "    // temporary variables held each loop \n",
    "    //\n",
    "    temp_data = X[i]\n",
    "    temp_target = Y[i]\n",
    "    temp_Sigma = (1/n) * sum(temp_data * temp_data^T)\n",
    "    temp_Gamma = (1/n) * sum(temp_data * Y \n",
    "    \n",
    "    // add to stored variable\n",
    "    Sigma = Sigma + temp_Sigma\n",
    "    Gamma = Gamma + temp_Gamma\n",
    "    \n",
    "END \n",
    "```\n",
    "\n",
    "TODO:\n",
    "\n",
    "Figure out correct way to bold in latex, this is bolding everything\n",
    "\n",
    "improve pseudo-code ?\n",
    "\n",
    "https://users.csc.calpoly.edu/~jdalbey/SWE/pdl_std.html"
   ]
  },
  {
   "cell_type": "markdown",
   "id": "634b33ac",
   "metadata": {},
   "source": [
    "### Question 3"
   ]
  },
  {
   "cell_type": "markdown",
   "id": "abb9e5b9",
   "metadata": {},
   "source": [
    "### Question 4 "
   ]
  },
  {
   "cell_type": "markdown",
   "id": "39da40a3",
   "metadata": {},
   "source": [
    "### Resources and Notes {-}"
   ]
  },
  {
   "cell_type": "markdown",
   "id": "1175b770",
   "metadata": {},
   "source": [
    "1. "
   ]
  }
 ],
 "metadata": {
  "date": "February 20, 2023",
  "kernelspec": {
   "display_name": "Python 3 (ipykernel)",
   "language": "python",
   "name": "python3"
  },
  "language_info": {
   "codemirror_mode": {
    "name": "ipython",
    "version": 3
   },
   "file_extension": ".py",
   "mimetype": "text/x-python",
   "name": "python",
   "nbconvert_exporter": "python",
   "pygments_lexer": "ipython3",
   "version": "3.8.11"
  },
  "title": "STA 561 Homework 5"
 },
 "nbformat": 4,
 "nbformat_minor": 5
}
