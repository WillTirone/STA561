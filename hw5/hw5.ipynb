{
 "cells": [
  {
   "cell_type": "markdown",
   "id": "a22882a3-2af9-44ed-829d-d254864ed184",
   "metadata": {},
   "source": [
    "# STA 561 HW 5\n",
    "\n",
    "Authors  \n",
    " -  Alonso Guerrero Castaneda (UID: 1194613)  \n",
    " -  Eli Gnesin (UID: 1172961)  \n",
    " -  Tommy Misikoff (UID: 1166813)  \n",
    " -  Sanskriti Purohit (UID: 1179957)  \n",
    " -  Will Tirone (UID: 1130904)  \n",
    "\n",
    "TA: Rick Presman "
   ]
  },
  {
   "cell_type": "markdown",
   "id": "4a3a9f19",
   "metadata": {},
   "source": [
    "### Question 1"
   ]
  },
  {
   "cell_type": "markdown",
   "id": "05458358",
   "metadata": {},
   "source": [
    "$$\n",
    "\\begin{aligned}\n",
    "\\mathbb{E}||k^\\frac{-1}{2} \\Omega \\bf{x}||^2 &= k^\\frac{-1}{2} \\mathbb{E} \\bigg| \\bigg| \\begin{bmatrix}\n",
    "           \\Omega_{1}^T \\bf{x} \\\\\n",
    "           \\vdots \\\\\n",
    "           \\Omega_{k}^T \\bf{x}\n",
    "         \\end{bmatrix}\n",
    "\\bigg| \\bigg|^2 \\\\\n",
    "&= k^\\frac{-1}{2} \\mathbb{E} \\bigg[ \\bigg(\\Omega_{1,1} x_1 + \\dots + \\Omega_{1,k}x_p\\bigg)^2 + \\dots + \\bigg(\\Omega_{k,1} x_1 + \\dots + \\Omega_{k,p}x_p\\bigg)^2 \\bigg] \\\\\n",
    "&= k^\\frac{-1}{2} \\mathbb{E} \\bigg[ [ x_1^2 \\Omega_{1,1}^2 + \\Omega_{1,1}\\Omega_{1,2}x_1x_2 + \\dots] + \\dots + [x_1^2 \\Omega_{k,1}^2 + \\dots] \\bigg] \\\\\n",
    "\\end{aligned}\n",
    "$$\n",
    "\n",
    "Now the non-squared terms will be 0, since $\\mathbb{E}(\\Omega_{i,j}) = 0$ and they are i.i.d. For example, $\\mathbb{E}(\\Omega_{1,1}\\Omega_{1,2}x_1x_2) = x_1x_2\\mathbb{E}(\\Omega_{1,1})\\mathbb{E}(\\Omega_{1,2}) = 0$\n",
    "\n",
    "$$\n",
    "\\begin{aligned}\n",
    "&= k^\\frac{-1}{2}  \\bigg[ [x_1^2 \\mathbb{E}(\\Omega_{1,1}^2)  + \\dots + x_p^2\\mathbb{E}(\\Omega_{1,k}^2)] + \\dots + [x_1^2 \\mathbb{E}(\\Omega_{k,1}^2) + \\dots + x_p^2\\mathbb{E}(\\Omega_{k,p}^2)] \\bigg] \\\\ \n",
    "&= k^\\frac{-1}{2} \\bigg[ [x_1^2  + \\dots + x_p^2] + \\dots + [x_1^2 + \\dots + x_p^2 ] \\bigg] \\ \\ \\ \\ \\ \\ \\ \\ \\ \\ \\text{second moment: } \\text{Var}(\\Omega_{i,j}) = E(\\Omega_{i,j}^2) - 0 = 1 \\\\ \n",
    "&= k^\\frac{-1}{2} \\bigg[ || x ||^2 + \\dots + || x ||^2 \\bigg] \\\\ \n",
    "&= \\sqrt{k}||x||^2 \\\\\n",
    "close?\n",
    "\\end{aligned}\n",
    "$$"
   ]
  },
  {
   "cell_type": "markdown",
   "id": "ff7f981f",
   "metadata": {
    "jp-MarkdownHeadingCollapsed": true,
    "tags": []
   },
   "source": [
    "### Question 2"
   ]
  },
  {
   "cell_type": "markdown",
   "id": "634b33ac",
   "metadata": {},
   "source": [
    "### Question 3"
   ]
  },
  {
   "cell_type": "markdown",
   "id": "abb9e5b9",
   "metadata": {},
   "source": [
    "### Question 4 "
   ]
  },
  {
   "cell_type": "markdown",
   "id": "39da40a3",
   "metadata": {},
   "source": [
    "### Resources and Notes {-}"
   ]
  },
  {
   "cell_type": "markdown",
   "id": "1175b770",
   "metadata": {},
   "source": [
    "1. "
   ]
  }
 ],
 "metadata": {
  "date": "February 20, 2023",
  "kernelspec": {
   "display_name": "Python 3 (ipykernel)",
   "language": "python",
   "name": "python3"
  },
  "language_info": {
   "codemirror_mode": {
    "name": "ipython",
    "version": 3
   },
   "file_extension": ".py",
   "mimetype": "text/x-python",
   "name": "python",
   "nbconvert_exporter": "python",
   "pygments_lexer": "ipython3",
   "version": "3.8.11"
  },
  "title": "STA 561 Homework 5"
 },
 "nbformat": 4,
 "nbformat_minor": 5
}
