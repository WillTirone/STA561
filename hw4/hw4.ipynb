{
 "cells": [
  {
   "cell_type": "markdown",
   "id": "a22882a3-2af9-44ed-829d-d254864ed184",
   "metadata": {},
   "source": [
    "Authors  \n",
    " -  Alonso Guerrero Castaneda (UID: 1194613)  \n",
    " -  Eli Gnesin (UID: 1172961)  \n",
    " -  Tommy Misikoff (UID: 1166813)  \n",
    " -  Sanskriti Purohit (UID: 1179957)  \n",
    " -  Will Tirone (UID: 1130904)  \n",
    "\n",
    "TA: Rick Presman "
   ]
  },
  {
   "cell_type": "markdown",
   "id": "4a3a9f19",
   "metadata": {},
   "source": [
    "### Question 1 {-}\n",
    "\n",
    "Consider data ${(T_i, \\delta_i)}_{i=1}^n$ as data and consider the Kaplan-Meier estimator $\\hat{S}_n(t) = \\prod_{j:t_j < t}(1 - \\frac{d_j}{n_j})$ where $n_j$ are the number of subjects still alive at time $t_j$ and $d_j$ are the number of subjects who died at time $t_j$ and $j$ is the index of observed event times. "
   ]
  },
  {
   "cell_type": "code",
   "execution_count": 1,
   "id": "6444e52c-95dd-4fd2-9dc3-585072cf4996",
   "metadata": {},
   "outputs": [
    {
     "data": {
      "image/png": "[encoded data removed]",
      "text/plain": [
       "<Figure size 432x288 with 1 Axes>"
      ]
     },
     "metadata": {
      "needs_background": "light"
     },
     "output_type": "display_data"
    }
   ],
   "source": [
    "import numpy as np\n",
    "import numpy.random as nr\n",
    "from typing import Optional\n",
    "import matplotlib.pyplot as plt\n",
    "from statsmodels.distributions.empirical_distribution import ECDF\n",
    "import tqdm\n",
    "import pdb\n",
    "\n",
    "\n",
    "def streaming_km(\n",
    "        observed_times: np.ndarray,\n",
    "        censoring_ind: np.ndarray,\n",
    "        failure_set: Optional[dict] = {},\n",
    "        risk_set: Optional[dict] = {}\n",
    ") -> dict:\n",
    "    \"\"\"\n",
    "    Compute the Kaplan-Meier estimator and sufficient statistics with\n",
    "    single sweep through the data\n",
    "    :param observed_times: 1D np.array of observed times, i.e., the\n",
    "        minimum of failure and censoring times\n",
    "    :param censoring_ind: 1D np.array of indicators that an observation\n",
    "        was censored\n",
    "    :param failure_set: a dictionary mapping failure times to\n",
    "        the number of observed failures at that time, if None an empty\n",
    "        dictionary is created.  This allows us to sequentially process\n",
    "        multiple datasets.  Note that we do not changed passed dictionaries.\n",
    "    :param risk_set: a dictionary mapping failure times to the\n",
    "        number of individuals at risk.\n",
    "    :return: dictionary with key --> value pairs:\n",
    "        failure_set -> dictionary with keys corresponding to unique failure\n",
    "            times and values corresponding to number of observed failures at\n",
    "            that (key) time\n",
    "        risk_set -> dictionary with keys corresponding to unique failure\n",
    "            times and values corresponding to number of individuals at risk\n",
    "            at that (key) time\n",
    "        km -> dictionary with keys corresponding to unique failure times\n",
    "            and values corresponding to Kaplan-Meier estimator of\n",
    "            survivor function.\n",
    "    \"\"\"\n",
    "    \n",
    "    local_failure_set = failure_set.copy()\n",
    "    local_risk_set = risk_set.copy()\n",
    "    # Finding unique values of observed times for which censoring indicator gave the value 1.\n",
    "    t_unique = np.unique(observed_times[censoring_indicator==1])\n",
    "    for t in t_unique:\n",
    "        if t not in local_failure_set:\n",
    "            local_failure_set[t] = 0.0\n",
    "        local_failure_set[t] = sum((observed_times==t)&(censoring_ind==1))\n",
    "        if t not in local_risk_set:\n",
    "            local_risk_set[t] = 0.0\n",
    "        local_risk_set[t] += sum(i>=t for i in observed_times)\n",
    "            \n",
    "\n",
    "    # Compute KM estimator\n",
    "    unique_failure_times = np.sort(list(local_failure_set.keys()))\n",
    "    discrete_hazard = np.array(\n",
    "        [local_failure_set[j]/local_risk_set[j] for j in unique_failure_times]\n",
    "    )\n",
    "    km = np.cumprod(1-discrete_hazard)\n",
    "    km_dict = dict(zip(unique_failure_times, km))\n",
    "    return {\"failure_set\": local_failure_set, \"risk_set\": local_risk_set,\n",
    "            \"km\": km_dict}\n",
    "\n",
    "\n",
    "if __name__ == \"__main__\":\n",
    "    # Generate right-censored data\n",
    "    nr.seed(1) # for replicability\n",
    "    n = 100\n",
    "    true_failure_times = nr.exponential(size=n)*100\n",
    "    censoring_times = nr.exponential(size=n)*100\n",
    "\n",
    "    # Note that you could do this in one step rather than two\n",
    "    observed_times = np.array(\n",
    "        [min(t, c) for t, c in zip(true_failure_times, censoring_times)]\n",
    "    )\n",
    "    censoring_indicator = np.array(\n",
    "        [t <= c for t, c in zip(true_failure_times, censoring_times)]\n",
    "    )\n",
    "    km_est = streaming_km(observed_times, censoring_indicator)\n",
    "    plt.plot(km_est[\"km\"].keys(), km_est[\"km\"].values())\n",
    "    ecdf = ECDF(true_failure_times)(\n",
    "        np.linspace(min(observed_times), max(observed_times))\n",
    "    )\n",
    "    plt.plot(np.linspace(min(observed_times), max(observed_times)), 1-ecdf)\n",
    "    plt.show()"
   ]
  },
  {
   "cell_type": "markdown",
   "id": "ff7f981f",
   "metadata": {
    "tags": []
   },
   "source": [
    "### Question 2 {-}\n",
    "\n",
    "Consider observed iid data ${(\\mathbf{X}_i, Y_i)}_{i=1}^n$ and with $\\lambda > 0$, define $(\\hat{\\mathbf{u}}_n, \\hat{\\mathbf{v}}_n) = \\text{arg min}_{\\mathbf{(u,v)}} \\mathbb{P}_n \\{Y - (\\mathbf{u}\\circ\\mathbf{v})^T\\mathbf{X}\\}^2 + \\lambda||\\mathbf{u}||^2/2 + \\lambda||\\mathbf{v}||^2/2$ with $\\hat{\\beta}_n^{\\lambda} = \\hat{\\mathbf{u}}_n \\circ \\hat{\\mathbf{v}}_n$. Now, we note that since $\\circ$ is the element-wise multiplication of vectors, we can also consider the symbol $/$ to be the element-wise division of vectors, such that $\\mathbf{u} = \\beta / \\mathbf{v}$.\n",
    "\n",
    "Then:\n",
    "\\begin{aligned}\n",
    "\n",
    "\\end{aligned}\n",
    "\n",
    "Once we recognize that $\\hat{\\beta}_n^{\\lambda}$ is the LASSO estimator with tuning parameter $\\lambda$, we can now consider how to implement a lasso estimator from this representation. First, note that since multiplication is commutative under the real numbers, $\\mathbf{u} \\circ \\mathbf{v} = \\begin{pmatrix} u_1 * v_1 & ... & u_p * v_p \\end{pmatrix} = \\begin{pmatrix} v_1 * u_1 & ... & v_p * u_p \\end{pmatrix} = \\mathbf{v} \\circ \\mathbf{u}$, and therefore $(\\mathbf{u}\\circ\\mathbf{v})\\mathbf{X} = (\\mathbf{v}\\circ\\mathbf{u})\\mathbf{X}$. Now consider the initial definition of the minimization function given above. Consider an initial $\\mathbf{v}_0$. Now, we have: \n",
    "\\begin{aligned}\n",
    "\\hat{\\mathbf{u}_1} &= \\text{arg min}_{\\mathbf{u}} \\mathbb{P}_n \\{Y - (\\mathbf{u}\\circ\\mathbf{v}_0)^T\\mathbf{X}\\}^2 + \\lambda||\\mathbf{u}||^2/2 + \\lambda||\\mathbf{v}_0||^2/2 \\\\\n",
    "&= \\text{arg min}_{\\mathbf{u}} \\mathbb{P}_n \\{Y - (\\mathbf{u}\\circ\\mathbf{v}_0)^T\\mathbf{X}\\}^2 + \\lambda||\\mathbf{u}||^2/2 + const.\n",
    "\\end{aligned}\n",
    "\n",
    "Now, we can consider the matrix $\\mathbf{X}^*$, defined by taking the elements $v_i$ of $\\mathbf{v}_0$ and multiplying $v_i$ by the $i^{th}$ row of $\\mathbf{X}$. In this construction, $\\mathbf{u}\\mathbf{X}^* = (\\mathbf{u}\\circ\\mathbf{v}_0)\\mathbf{X}$. Then we have $\\hat{\\mathbf{u}_1} = \\text{arg min}_{\\mathbf{u}} \\mathbb{P}_n \\{Y - \\mathbf{u}^T\\mathbf{X}^*\\}^2 + \\lambda||\\mathbf{u}||^2/2 + const.$. Now, since we are minimizing with respect to $\\mathbf{u}$, and the constant $\\lambda||\\mathbf{v}_0||^2/2$ does not contain $\\mathbf{u}$, we can ignore it with respect to the minimization (since for every $\\mathbf{u}$, we would simply be adding on the same extra term). Then, we have $\\hat{\\mathbf{u}_1} = \\text{arg min}_{\\mathbf{u}} \\mathbb{P}_n \\{Y - \\mathbf{u}^T\\mathbf{X}^*\\}^2 + \\lambda||\\mathbf{u}||^2/2$, which is simply the equation that minimizes to Ridge Regression (with $\\lambda/2$ instead of $\\lambda$, but we could simply let $\\lambda^* = \\lambda/2$ to avoid this). As such, we have used this representation to minimize $\\mathbf{u}$ given a fixed $\\mathbf{v}$ by Ridge Regression.\n",
    "\n",
    "Now, with $\\hat{\\mathbf{u}_1}$, consider the matrix $\\mathbf{X}^{\\circ}$, defined by taking the elements $u_i$ of $\\hat{\\mathbf{u}_1}$ and multiplying $u_i$ by the $i^{th}$ row of $\\mathbf{X}$. With this construction, $\\mathbf{v}\\mathbf{X}^{\\circ} = (\\mathbf{v} \\circ \\hat{\\mathbf{u}_1})\\mathbf{X}$. Then, we can consider the minimization of $\\mathbf{v}$:\n",
    "\\begin{aligned}\n",
    "\\hat{\\mathbf{v}_1} &= \\text{arg min}_{\\mathbf{v}} \\mathbb{P}_n \\{Y - (\\mathbf{v}\\circ\\hat{\\mathbf{u}_1})^T\\mathbf{X}\\}^2 + \\lambda||\\hat{\\mathbf{u}_1}||^2/2 + \\lambda||\\mathbf{v}||^2/2 \\\\\n",
    "&= \\text{arg min}_{\\mathbf{v}} \\mathbb{P}_n \\{Y - \\mathbf{v}^T\\mathbf{X}^{\\circ}\\}^2 + \\lambda||\\mathbf{v}||^2/2 + \\lambda||\\hat{\\mathbf{u}_1}||^2/2\n",
    "\\end{aligned}\n",
    "\n",
    "Now we have $\\hat{\\mathbf{v}_1} = \\text{arg min}_{\\mathbf{v}} \\mathbb{P}_n \\{Y - \\mathbf{v}^T\\mathbf{X}^{\\circ}\\}^2 + \\lambda||\\mathbf{v}||^2/2 + const.$, and as with the minimization of $\\mathbf{u}$ previously, since we are minimizating with respect to $\\mathbf{v}$, $\\lambda||\\hat{\\mathbf{u}_1}||^2/2$ is a constant, and so we can ignore it for the sake of minimization, and thus we instead have $\\hat{\\mathbf{v}_1} = \\mathbb{P}_n \\{Y - \\mathbf{v}^T\\mathbf{X}^{\\circ}\\}^2 + \\lambda||\\mathbf{v}||^2/2$, which is the equation that minimizes Ridge Regression. As such, we have also minimized $\\mathbf{v}$ given $\\hat{\\mathbf{u}_1}$ by Ridge Regression.\n",
    "\n",
    "We can now repeat the above process to find $\\hat{\\mathbf{u}_i}, \\hat{\\mathbf{v}_i}$ through a series of alternating Ridge Regressions, first minimizing $\\mathbf{u}$ using $\\hat{\\mathbf{v}_{i-1}}$, and then minimizing $\\mathbf{v}$ using $\\hat{\\mathbf{u}_i}$ It is then reasonable to expect that at each iteration $i$, we would then check if $(\\hat{\\mathbf{u}_i}, \\hat{\\mathbf{v}_i})$ actually minimizes the original equation, and we would stop when the original equation was minimized (without a closed form, we could do multiple starts of the with different $\\mathbf{v}_0$ and accept the best minimized function to give us $(\\hat{\\mathbf{u}}_n, \\hat{\\mathbf{v}}_n)$, which can then be used to calculate $\\hat{\\beta}_n^{\\lambda}$. As such, we have shown that, using this representation, we can implement lasso as a sequence of alternating Ridge Regressions using stochastic approximation methods.\n",
    "\n",
    "It is important to note that the above method does not include any dampening. We could choose to include dampening, within the above framework, by initializing $\\mathbf{u}_0, \\mathbf{v}_0$ and then, for any iteration $i$, calculating $\\mathbf{u}_i = \\mathbf{u}_{i-1} + \\alpha_i \\mathbf{u}^*$ where $\\mathbf{u}^*$ is the solution of the minimization with respect to $\\mathbf{u}$ using $\\mathbf{v}_{i-1}$, and then calculating $\\mathbf{v}_i = \\mathbf{v}_{i-1} + \\alpha_i \\mathbf{v}^*$ where $\\mathbf{v}^*$ is the solution of the minimization with respect to $\\mathbf{v}$ using $\\mathbf{u}_i$, with decreasing step sizes $\\alpha_i$ that satisfy the conditions $\\sum_{i \\ge 1} \\alpha_i = \\infty$ and $\\sum_{i \\ge 1} \\alpha_i^2 < \\infty$."
   ]
  },
  {
   "cell_type": "markdown",
   "id": "39da40a3",
   "metadata": {},
   "source": [
    "### Resources and Notes {-}"
   ]
  }
 ],
 "metadata": {
  "date": "February 20, 2023",
  "kernelspec": {
   "display_name": "Python 3 (ipykernel)",
   "language": "python",
   "name": "python3"
  },
  "language_info": {
   "codemirror_mode": {
    "name": "ipython",
    "version": 3
   },
   "file_extension": ".py",
   "mimetype": "text/x-python",
   "name": "python",
   "nbconvert_exporter": "python",
   "pygments_lexer": "ipython3",
   "version": "3.9.12"
  },
  "title": "STA 561 Homework 3"
 },
 "nbformat": 4,
 "nbformat_minor": 5
}
